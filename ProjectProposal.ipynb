{
 "cells": [
  {
   "cell_type": "markdown",
   "metadata": {},
   "source": [
    "# CPSC 322 Final Project \n",
    "\n",
    "Trevor Bushnell, Ben Lombardi\n",
    "\n",
    "## The Dataset\n",
    "\n",
    "The dataset that we are going to be using is the [League of Legends Diamond Ranked Games (10 mins )](https://www.kaggle.com/datasets/bobbyscience/league-of-legends-diamond-ranked-games-10-min) on kaggle.com. This dataset is comprised of a csv file that contains information on the first 10 minutes of roughly 10,000 ranked games (Solo Queue) from high elo (Diamond 1 to Masters) in 2020. \n",
    "\n",
    "There are 19 attributes per team (38 total). These attributes include attributes such as average level, total gold, gold difference at 10 min, number of kills, number of deaths, number of objectives taken, and much more. If necessary we can grab more attributes for each instance with the Riot API.\n",
    "\n",
    "The attibute that we will be trying to predict is whether or not the blue team wins. This attribute takes the value of 1 if the blue team wins and 0 otherwise.\n",
    "\n",
    "## Implementation\n",
    "\n",
    "We do not anticipate any challenges in pre-processing as the data is already cleaned and in a useable format. However, there could be some trouble with classification. The first problem that we may run into is that in the 2020 League of Legends season games tended to last longer with the introduction of some comeback mechanics into the game (Dragon Soul and Elder Dragon objectives). As such, many players opted to pick scaling team compositions that often sacrficed power in the beginning of the match for more power at the end of the match. As such, it was not alway uncommon for a team to perform poorly in the first 10-20 minutes and then go on to win the game. This means that there may be several outliers in this dataset. \n",
    "\n",
    "The other problem that we may run into in classification is the abundance of attributes in the dataset. In addition to using entropy to possibly narrow down the dataset, there are several attributes for both red and blue team that serve the same purpose, such as First Blood, and Gold and Experience Difference. The dataset does need each team to have one of these attributes and we can safely delete one team's attribute and keep the other. \n",
    "\n",
    "## Potential Impacts\n",
    "\n",
    "The results of this project will be useful as it will better inform players about early win conditions for ranked games. While the data is from 2 years ago, the strategies and meta of League of Legends is still pretty similar. Additionally, by indentifying which attributes are strong predictors of success, it could help Riot Games to better balance League of Legends."
   ]
  }
 ],
 "metadata": {
  "interpreter": {
   "hash": "a707b6ce8c685eb936424fcc3009d4b4b7a52543c4db09380a3fc49186ceb509"
  },
  "kernelspec": {
   "display_name": "Python 3.9.7 ('base')",
   "language": "python",
   "name": "python3"
  },
  "language_info": {
   "name": "python",
   "version": "3.9.7"
  },
  "orig_nbformat": 4
 },
 "nbformat": 4,
 "nbformat_minor": 2
}
