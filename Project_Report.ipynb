{
 "cells": [
  {
   "cell_type": "code",
   "execution_count": 1,
   "metadata": {},
   "outputs": [],
   "source": [
    "import importlib\n",
    "\n",
    "import mysklearn.myutils\n",
    "importlib.reload(mysklearn.myutils)\n",
    "import mysklearn.myutils as myutils\n",
    "\n",
    "\n",
    "import mysklearn.mypytable\n",
    "importlib.reload(mysklearn.mypytable)\n",
    "from mysklearn.mypytable import MyPyTable \n",
    "\n",
    "\n",
    "import mysklearn.myclassifiers\n",
    "importlib.reload(mysklearn.myclassifiers)\n",
    "from mysklearn.myclassifiers import MyKNeighborsClassifier, MyDummyClassifier, MyNaiveBayesClassifier, MyDecisionTreeClassifier, MyRandomForestClassifier\n",
    "\n",
    "import mysklearn.myevaluation\n",
    "importlib.reload(mysklearn.myevaluation)\n",
    "import mysklearn.myevaluation as myevaluation\n",
    "\n",
    "import copy\n",
    "import numpy as np"
   ]
  },
  {
   "cell_type": "code",
   "execution_count": 2,
   "metadata": {},
   "outputs": [],
   "source": [
    "df = MyPyTable()\n",
    "df.load_from_file(\"high_diamond_ranked_10min.csv\")\n",
    "y = df.get_column(\"blueWins\")\n",
    "\n",
    "X = copy.deepcopy(df.data)\n",
    "# randomizing indexes to sort out a stratified sample\n",
    "X_indexes = [ i for i in range(len(X))]\n",
    "myutils.randomize_in_place(X_indexes,y,0)\n",
    "grouped_X =[]\n",
    "grouped_y = []\n",
    "for i in range(len(X)):\n",
    "    if grouped_y.count(y[i]) >0:\n",
    "        grouped_X[grouped_y.index(y[i])].append(X_indexes[i])\n",
    "    else:\n",
    "        grouped_y.append(y[i])\n",
    "        grouped_X.append([X_indexes[i]])\n",
    "X_data = []\n",
    "y_data = []\n",
    "for i in range(1500):\n",
    "    for j in range(len(grouped_X)):\n",
    "        X_data.append(X[grouped_X[j][i]])\n",
    "        y_data.append(grouped_y[j])\n",
    "\n",
    "X = copy.deepcopy(X_data)\n",
    "\n",
    "y = copy.deepcopy(y_data)\n",
    "for entry in X:\n",
    "    del entry[0]\n",
    "    del entry[0]\n",
    "knn_clf = MyKNeighborsClassifier()\n",
    "nb_clf = MyNaiveBayesClassifier()\n",
    "dummy_clf = MyDummyClassifier()\n",
    "tree_clf = MyDecisionTreeClassifier()\n",
    "nb_clf = MyNaiveBayesClassifier()"
   ]
  },
  {
   "cell_type": "code",
   "execution_count": 3,
   "metadata": {},
   "outputs": [
    {
     "name": "stdout",
     "output_type": "stream",
     "text": [
      "\n",
      "Hold-Out Method\n",
      "kNN Classifier : accuracy =  0.6909090909090909  error =  0.3090909090909091\n",
      "binary precision:  0.6915322580645161\n",
      "binary recall:  0.6915322580645161\n",
      "f1 score:  0.6915322580645161\n",
      "Confusion Matrix\n",
      "[[341, 153], [153, 343]]\n",
      "\n",
      "Hold-Out Method\n",
      "Dummy Classifier : accuracy =  0.5  error =  0.5\n",
      "binary precision:  0.0\n",
      "binary recall:  0.0\n",
      "f1 score:  0\n",
      "Confusion Matrix\n",
      "[[495, 0], [495, 0]]\n"
     ]
    }
   ],
   "source": [
    "myutils.compute_clf_stats(knn_clf,X,y,\"kNN Classifier\")\n",
    "myutils.compute_clf_stats(dummy_clf,X,y,\"Dummy Classifier\")"
   ]
  },
  {
   "cell_type": "code",
   "execution_count": 4,
   "metadata": {},
   "outputs": [
    {
     "name": "stdout",
     "output_type": "stream",
     "text": [
      "['blueWardsPlaced', 'blueWardsDestroyed', 'blueFirstBlood', 'blueKills', 'blueDeaths', 'blueAssists', 'blueEliteMonsters', 'blueDragons', 'blueHeralds', 'blueTowersDestroyed', 'blueGoldDiff', 'blueExperienceDiff', 'redWardsPlaced', 'redWardsDestroyed', 'redFirstBlood', 'redKills', 'redDeaths', 'redAssists', 'redEliteMonsters', 'redDragons', 'redHeralds', 'redTowersDestroyed']\n"
     ]
    }
   ],
   "source": [
    "header = df.column_names.copy()\n",
    "del header[0:2]\n",
    "del header[-9:-1]\n",
    "del header[-1]\n",
    "del header[10:15]\n",
    "del header[12:14]\n",
    "print(header)"
   ]
  },
  {
   "cell_type": "code",
   "execution_count": 5,
   "metadata": {},
   "outputs": [
    {
     "name": "stdout",
     "output_type": "stream",
     "text": [
      "\n",
      "Hold-Out Method\n",
      "kNN Classifier : accuracy =  0.6525252525252525  error =  0.3474747474747475\n",
      "binary precision:  0.6583333333333333\n",
      "binary recall:  0.6370967741935484\n",
      "f1 score:  0.6475409836065574\n",
      "Confusion Matrix\n",
      "[[316, 180], [164, 330]]\n",
      "\n",
      "Hold-Out Method\n",
      "Dummy Classifier : accuracy =  0.5  error =  0.5\n",
      "binary precision:  0.0\n",
      "binary recall:  0.0\n",
      "f1 score:  0\n",
      "Confusion Matrix\n",
      "[[495, 0], [495, 0]]\n"
     ]
    }
   ],
   "source": [
    "X = copy.deepcopy(X_data)\n",
    "\n",
    "for entry in X:\n",
    "    del entry[0:2]\n",
    "    del entry[-9:-1]\n",
    "    del entry[-1]\n",
    "    del entry[10:15]\n",
    "    del entry[12:14]\n",
    "\n",
    "myutils.compute_clf_stats(knn_clf,X,y,\"kNN Classifier\")\n",
    "myutils.compute_clf_stats(dummy_clf,X,y,\"Dummy Classifier\")"
   ]
  },
  {
   "cell_type": "code",
   "execution_count": 6,
   "metadata": {},
   "outputs": [],
   "source": [
    "# equal width binning\n",
    "X = copy.deepcopy(X_data)\n",
    "y = [str(value) for value in y]\n",
    "for entry in X:\n",
    "    del entry[0:2]\n",
    "    del entry[-9:-1]\n",
    "    del entry[-1]\n",
    "    del entry[10:15]\n",
    "    del entry[12:14]\n",
    "for j in range(len(X[0])):\n",
    "    binned_col = myutils.binning([row[j] for row in X])\n",
    "    for i in range(len(X)):\n",
    "        X[i][j] = binned_col[i]\n"
   ]
  },
  {
   "cell_type": "code",
   "execution_count": 7,
   "metadata": {},
   "outputs": [
    {
     "name": "stdout",
     "output_type": "stream",
     "text": [
      "Hold-Out Method\n",
      "Random Forest : accuracy =  0.6555555555555556  error =  0.34444444444444444\n"
     ]
    }
   ],
   "source": [
    "X_train, X_test, y_train,y_test = myevaluation.train_test_split(X,y,random_state=0)\n",
    "\n",
    "forest_clf = MyRandomForestClassifier()\n",
    "forest_clf.fit(X_train,y_train,5,3,3)\n",
    "y_pred_clf = forest_clf.predict(X_test)\n",
    "\n",
    "accuracy = myevaluation.accuracy_score(y_test,y_pred_clf)\n",
    "print(\"Hold-Out Method\")\n",
    "print(\"Random Forest : accuracy = \", accuracy, \" error = \", 1 - accuracy)"
   ]
  },
  {
   "cell_type": "code",
   "execution_count": 8,
   "metadata": {},
   "outputs": [
    {
     "name": "stdout",
     "output_type": "stream",
     "text": [
      "Hold-Out Method\n",
      "Random Forest : accuracy =  0.6575757575757576  error =  0.3424242424242424\n"
     ]
    }
   ],
   "source": [
    "X_train, X_test, y_train,y_test = myevaluation.train_test_split(X,y,random_state=0)\n",
    "\n",
    "forest_clf = MyRandomForestClassifier()\n",
    "forest_clf.fit(X_train,y_train,20,11,3)\n",
    "y_pred_clf = forest_clf.predict(X_test)\n",
    "\n",
    "accuracy = myevaluation.accuracy_score(y_test,y_pred_clf)\n",
    "print(\"Hold-Out Method\")\n",
    "print(\"Random Forest : accuracy = \", accuracy, \" error = \", 1 - accuracy)"
   ]
  },
  {
   "cell_type": "code",
   "execution_count": 9,
   "metadata": {},
   "outputs": [
    {
     "name": "stdout",
     "output_type": "stream",
     "text": [
      "Hold-Out Method\n",
      "Random Forest : accuracy =  0.6777777777777778  error =  0.3222222222222222\n"
     ]
    }
   ],
   "source": [
    "X_train, X_test, y_train,y_test = myevaluation.train_test_split(X,y,random_state=0)\n",
    "\n",
    "forest_clf = MyRandomForestClassifier()\n",
    "forest_clf.fit(X_train,y_train,20,7,5)\n",
    "y_pred_clf = forest_clf.predict(X_test)\n",
    "\n",
    "accuracy = myevaluation.accuracy_score(y_test,y_pred_clf)\n",
    "print(\"Hold-Out Method\")\n",
    "print(\"Random Forest : accuracy = \", accuracy, \" error = \", 1 - accuracy)"
   ]
  },
  {
   "cell_type": "code",
   "execution_count": 10,
   "metadata": {},
   "outputs": [
    {
     "name": "stdout",
     "output_type": "stream",
     "text": [
      "Hold-Out Method\n",
      "Random Forest : accuracy =  0.6717171717171717  error =  0.3282828282828283\n"
     ]
    }
   ],
   "source": [
    "X_train, X_test, y_train,y_test = myevaluation.train_test_split(X,y,random_state=0)\n",
    "\n",
    "forest_clf = MyRandomForestClassifier()\n",
    "forest_clf.fit(X_train,y_train,20,7,10)\n",
    "y_pred_clf = forest_clf.predict(X_test)\n",
    "\n",
    "accuracy = myevaluation.accuracy_score(y_test,y_pred_clf)\n",
    "print(\"Hold-Out Method\")\n",
    "print(\"Random Forest : accuracy = \", accuracy, \" error = \", 1 - accuracy)"
   ]
  },
  {
   "cell_type": "code",
   "execution_count": 11,
   "metadata": {},
   "outputs": [],
   "source": [
    "X = copy.deepcopy(X_data)\n",
    "y = [str(value) for value in y]\n",
    "for entry in X:\n",
    "    del entry[0:2]\n",
    "for j in range(len(X[0])):\n",
    "    binned_col = myutils.binning([row[j] for row in X])\n",
    "    for i in range(len(X)):\n",
    "        X[i][j] = binned_col[i]"
   ]
  },
  {
   "cell_type": "code",
   "execution_count": 12,
   "metadata": {},
   "outputs": [
    {
     "name": "stdout",
     "output_type": "stream",
     "text": [
      "Hold-Out Method: M =  10  N =  3  F =  3\n",
      "Random Forest : accuracy =  0.6575757575757576  error =  0.3424242424242424\n",
      "Hold-Out Method: M =  10  N =  3  F =  5\n",
      "Random Forest : accuracy =  0.6898989898989899  error =  0.3101010101010101\n",
      "Hold-Out Method: M =  10  N =  3  F =  7\n",
      "Random Forest : accuracy =  0.6737373737373737  error =  0.32626262626262625\n",
      "Hold-Out Method: M =  10  N =  3  F =  9\n",
      "Random Forest : accuracy =  0.6868686868686869  error =  0.31313131313131315\n",
      "Hold-Out Method: M =  10  N =  3  F =  11\n",
      "Random Forest : accuracy =  0.6868686868686869  error =  0.31313131313131315\n",
      "Hold-Out Method: M =  20  N =  6  F =  3\n",
      "Random Forest : accuracy =  0.6545454545454545  error =  0.34545454545454546\n",
      "Hold-Out Method: M =  20  N =  6  F =  5\n",
      "Random Forest : accuracy =  0.697979797979798  error =  0.30202020202020197\n",
      "Hold-Out Method: M =  20  N =  6  F =  7\n",
      "Random Forest : accuracy =  0.6868686868686869  error =  0.31313131313131315\n",
      "Hold-Out Method: M =  20  N =  6  F =  9\n",
      "Random Forest : accuracy =  0.706060606060606  error =  0.29393939393939394\n",
      "Hold-Out Method: M =  20  N =  6  F =  11\n",
      "Random Forest : accuracy =  0.6878787878787879  error =  0.31212121212121213\n",
      "Hold-Out Method: M =  20  N =  6  F =  3\n",
      "Random Forest : accuracy =  0.6545454545454545  error =  0.34545454545454546\n",
      "Hold-Out Method: M =  20  N =  6  F =  5\n",
      "Random Forest : accuracy =  0.697979797979798  error =  0.30202020202020197\n",
      "Hold-Out Method: M =  20  N =  6  F =  7\n",
      "Random Forest : accuracy =  0.6868686868686869  error =  0.31313131313131315\n",
      "Hold-Out Method: M =  20  N =  6  F =  9\n",
      "Random Forest : accuracy =  0.706060606060606  error =  0.29393939393939394\n",
      "Hold-Out Method: M =  20  N =  6  F =  11\n",
      "Random Forest : accuracy =  0.6878787878787879  error =  0.31212121212121213\n",
      "Hold-Out Method: M =  40  N =  13  F =  3\n",
      "Random Forest : accuracy =  0.702020202020202  error =  0.297979797979798\n",
      "Hold-Out Method: M =  40  N =  13  F =  5\n",
      "Random Forest : accuracy =  0.7080808080808081  error =  0.2919191919191919\n",
      "Hold-Out Method: M =  40  N =  13  F =  7\n",
      "Random Forest : accuracy =  0.7101010101010101  error =  0.2898989898989899\n",
      "Hold-Out Method: M =  40  N =  13  F =  9\n",
      "Random Forest : accuracy =  0.706060606060606  error =  0.29393939393939394\n",
      "Hold-Out Method: M =  40  N =  13  F =  11\n",
      "Random Forest : accuracy =  0.7080808080808081  error =  0.2919191919191919\n",
      "Hold-Out Method: M =  50  N =  16  F =  3\n",
      "Random Forest : accuracy =  0.7  error =  0.30000000000000004\n",
      "Hold-Out Method: M =  50  N =  16  F =  5\n",
      "Random Forest : accuracy =  0.703030303030303  error =  0.296969696969697\n",
      "Hold-Out Method: M =  50  N =  16  F =  7\n",
      "Random Forest : accuracy =  0.7  error =  0.30000000000000004\n",
      "Hold-Out Method: M =  50  N =  16  F =  9\n",
      "Random Forest : accuracy =  0.7  error =  0.30000000000000004\n",
      "Hold-Out Method: M =  50  N =  16  F =  11\n",
      "Random Forest : accuracy =  0.696969696969697  error =  0.303030303030303\n"
     ]
    }
   ],
   "source": [
    "X_train, X_test, y_train,y_test = myevaluation.train_test_split(X,y,random_state=0)\n",
    "M_vals = [10,20,20,40,50]\n",
    "F_vals = [3,5,7,9,11]\n",
    "\n",
    "for m in M_vals:\n",
    "    for f in F_vals:\n",
    "        forest_clf = MyRandomForestClassifier()\n",
    "        forest_clf.fit(X_train,y_train,m,m//3,f)\n",
    "        y_pred_clf = forest_clf.predict(X_test)\n",
    "\n",
    "        accuracy = myevaluation.accuracy_score(y_test,y_pred_clf)\n",
    "        print(\"Hold-Out Method: M = \", m, \" N = \", m//3, \" F = \", f)\n",
    "        print(\"Random Forest : accuracy = \", accuracy, \" error = \", 1 - accuracy)"
   ]
  },
  {
   "cell_type": "code",
   "execution_count": 13,
   "metadata": {},
   "outputs": [
    {
     "name": "stdout",
     "output_type": "stream",
     "text": [
      "Hold-Out Method\n",
      "Random Forest : accuracy =  0.7222222222222222  error =  0.2777777777777778\n"
     ]
    }
   ],
   "source": [
    "X_train, X_test, y_train,y_test = myevaluation.train_test_split(X,y,random_state=0)\n",
    "\n",
    "forest_clf = MyRandomForestClassifier()\n",
    "forest_clf.fit(X_train,y_train,50,10,4)\n",
    "y_pred_clf = forest_clf.predict(X_test)\n",
    "\n",
    "accuracy = myevaluation.accuracy_score(y_test,y_pred_clf)\n",
    "print(\"Hold-Out Method\")\n",
    "print(\"Random Forest : accuracy = \", accuracy, \" error = \", 1 - accuracy)"
   ]
  },
  {
   "cell_type": "code",
   "execution_count": 14,
   "metadata": {},
   "outputs": [
    {
     "name": "stdout",
     "output_type": "stream",
     "text": [
      "Hold-Out Method\n",
      "Random Forest : accuracy =  0.693939393939394  error =  0.30606060606060603\n"
     ]
    }
   ],
   "source": [
    "X_train, X_test, y_train,y_test = myevaluation.train_test_split(X,y,random_state=0)\n",
    "\n",
    "forest_clf = MyRandomForestClassifier()\n",
    "forest_clf.fit(X_train,y_train,50,11,8)\n",
    "y_pred_clf = forest_clf.predict(X_test)\n",
    "\n",
    "accuracy = myevaluation.accuracy_score(y_test,y_pred_clf)\n",
    "print(\"Hold-Out Method\")\n",
    "print(\"Random Forest : accuracy = \", accuracy, \" error = \", 1 - accuracy)"
   ]
  },
  {
   "cell_type": "code",
   "execution_count": 15,
   "metadata": {},
   "outputs": [
    {
     "name": "stdout",
     "output_type": "stream",
     "text": [
      "Hold-Out Method\n",
      "Random Forest : accuracy =  0.702020202020202  error =  0.297979797979798\n"
     ]
    }
   ],
   "source": [
    "X_train, X_test, y_train,y_test = myevaluation.train_test_split(X,y,random_state=0)\n",
    "\n",
    "forest_clf = MyRandomForestClassifier()\n",
    "forest_clf.fit(X_train,y_train,50,11,15)\n",
    "y_pred_clf = forest_clf.predict(X_test)\n",
    "\n",
    "accuracy = myevaluation.accuracy_score(y_test,y_pred_clf)\n",
    "print(\"Hold-Out Method\")\n",
    "print(\"Random Forest : accuracy = \", accuracy, \" error = \", 1 - accuracy)"
   ]
  },
  {
   "cell_type": "markdown",
   "metadata": {},
   "source": [
    "Now we seek to find a compact feature set for a predictor to deploy to the web."
   ]
  },
  {
   "cell_type": "code",
   "execution_count": 3,
   "metadata": {},
   "outputs": [
    {
     "name": "stdout",
     "output_type": "stream",
     "text": [
      "['blueEliteMonsters', 'blueDragons', 'blueGoldDiff', 'blueExperienceDiff']\n"
     ]
    }
   ],
   "source": [
    "header = df.column_names.copy()\n",
    "\n",
    "del header[0:8]\n",
    "del header[2:9]\n",
    "del header[4:]\n",
    "print(header)\n",
    "\n",
    "X = copy.deepcopy(X_data)\n",
    "y = [str(value) for value in y]\n",
    "for entry in X:\n",
    "    del entry[0:8]\n",
    "    del entry[2:9]\n",
    "    del entry[4:]\n",
    "for j in range(len(X[0])):\n",
    "    binned_col = myutils.binning([row[j] for row in X])\n",
    "    for i in range(len(X)):\n",
    "        X[i][j] = binned_col[i]"
   ]
  },
  {
   "cell_type": "code",
   "execution_count": 7,
   "metadata": {},
   "outputs": [
    {
     "name": "stdout",
     "output_type": "stream",
     "text": [
      "\n",
      "Hold-Out Method\n",
      "kNN Classifier : accuracy =  0.6686868686868687  error =  0.33131313131313134\n",
      "binary precision:  0.6161335187760779\n",
      "binary recall:  0.8949494949494949\n",
      "f1 score:  0.729818780889621\n",
      "Confusion Matrix\n",
      "[[443, 52], [276, 219]]\n",
      "\n",
      "Hold-Out Method\n",
      "Decision Tree Classifier : accuracy =  0.6747474747474748  error =  0.32525252525252524\n",
      "binary precision:  0.6883116883116883\n",
      "binary recall:  0.6411290322580645\n",
      "f1 score:  0.6638830897703549\n",
      "Confusion Matrix\n",
      "[[350, 144], [178, 318]]\n",
      "\n",
      "Hold-Out Method\n",
      "Naive_Bayes Classifier : accuracy =  0.5  error =  0.5\n",
      "binary precision:  0.5\n",
      "binary recall:  1.0\n",
      "f1 score:  0.6666666666666666\n",
      "Confusion Matrix\n",
      "[[495, 0], [495, 0]]\n",
      "{'att0': ['-1.0 - 0.0', '0.0 - 1.0', '1.0 - 2.0'], 'att1': ['0.0', '1.0'], 'att2': ['-9152.0 - -7360.0', '1608.0 - 3400.0', '3400.0 - 5192.0', '5192.0 - 6984.0', '6984.0 - 8776.0'], 'att3': ['-8290.0 - -6627.0', '1696.0 - 3359.0', '3359.0 - 5022.0', '5022.0 - 6685.0', '6685.0 - 8348.0']}\n",
      "\n",
      "Hold-Out Method\n",
      "Random Forest Classifier: accuracy =  0.6626262626262627  error =  0.3373737373737373\n"
     ]
    }
   ],
   "source": [
    "myutils.compute_clf_stats(knn_clf,X,y,\"kNN Classifier\")\n",
    "myutils.compute_clf_stats(tree_clf,X,y,\"Decision Tree Classifier\")\n",
    "myutils.compute_clf_stats(nb_clf,X,y,\"Naive_Bayes Classifier\")\n",
    "\n",
    "print(tree_clf.attribute_domains)\n",
    "\n",
    "X_train, X_test, y_train,y_test = myevaluation.train_test_split(X,y,random_state=0)\n",
    "forest_clf = MyRandomForestClassifier()\n",
    "forest_clf.fit(X_train,y_train,10,3,2)\n",
    "y_pred_clf = forest_clf.predict(X_test)\n",
    "\n",
    "accuracy = myevaluation.accuracy_score(y_test,y_pred_clf)\n",
    "print()\n",
    "print(\"Hold-Out Method\")\n",
    "print(\"Random Forest Classifier: accuracy = \", accuracy, \" error = \", 1 - accuracy)\n"
   ]
  },
  {
   "cell_type": "markdown",
   "metadata": {},
   "source": [
    "## EDA\n",
    "The following are some graphs that help us identify some interesting relationships. Starting with sorting the table into TWO tables with all the data of blue wins and all the data with red wins."
   ]
  },
  {
   "cell_type": "code",
   "execution_count": 16,
   "metadata": {},
   "outputs": [
    {
     "name": "stdout",
     "output_type": "stream",
     "text": [
      "['gameId', 'blueWins', 'blueWardsPlaced', 'blueWardsDestroyed', 'blueFirstBlood', 'blueKills', 'blueDeaths', 'blueAssists', 'blueEliteMonsters', 'blueDragons', 'blueHeralds', 'blueTowersDestroyed', 'blueTotalGold', 'blueAvgLevel', 'blueTotalExperience', 'blueTotalMinionsKilled', 'blueTotalJungleMinionsKilled', 'blueGoldDiff', 'blueExperienceDiff', 'blueCSPerMin', 'blueGoldPerMin', 'redWardsPlaced', 'redWardsDestroyed', 'redFirstBlood', 'redKills', 'redDeaths', 'redAssists', 'redEliteMonsters', 'redDragons', 'redHeralds', 'redTowersDestroyed', 'redTotalGold', 'redAvgLevel', 'redTotalExperience', 'redTotalMinionsKilled', 'redTotalJungleMinionsKilled', 'redGoldDiff', 'redExperienceDiff', 'redCSPerMin', 'redGoldPerMin']\n",
      "['gameId', 'blueWins', 'blueWardsPlaced', 'blueWardsDestroyed', 'blueFirstBlood', 'blueKills', 'blueDeaths', 'blueAssists', 'blueEliteMonsters', 'blueDragons', 'blueHeralds', 'blueTowersDestroyed', 'blueTotalGold', 'blueAvgLevel', 'blueTotalExperience', 'blueTotalMinionsKilled', 'blueTotalJungleMinionsKilled', 'blueGoldDiff', 'blueExperienceDiff', 'blueCSPerMin', 'blueGoldPerMin', 'redWardsPlaced', 'redWardsDestroyed', 'redFirstBlood', 'redKills', 'redDeaths', 'redAssists', 'redEliteMonsters', 'redDragons', 'redHeralds', 'redTowersDestroyed', 'redTotalGold', 'redAvgLevel', 'redTotalExperience', 'redTotalMinionsKilled', 'redTotalJungleMinionsKilled', 'redGoldDiff', 'redExperienceDiff', 'redCSPerMin', 'redGoldPerMin']\n"
     ]
    }
   ],
   "source": [
    "data = MyPyTable()\n",
    "data.load_from_file('high_diamond_ranked_10min.csv')\n",
    "blue_wins_table = []\n",
    "blue_loses_table = []\n",
    "\n",
    "for row in data.data:\n",
    "    if row[1] == 1: # blue wins\n",
    "        blue_wins_table.append(row)\n",
    "    elif row[1] == 0: # red wins\n",
    "        blue_loses_table.append(row)\n",
    "\n",
    "print(data.column_names)\n",
    "blue_wins_df = MyPyTable(column_names=data.column_names, data=blue_wins_table)\n",
    "blue_loses_df = MyPyTable(column_names=data.column_names, data=blue_loses_table)\n",
    "print(blue_wins_df.column_names)"
   ]
  },
  {
   "cell_type": "markdown",
   "metadata": {},
   "source": [
    "## Graphing Blue Stats VS Red Stats when Blue WINS"
   ]
  },
  {
   "cell_type": "code",
   "execution_count": 17,
   "metadata": {},
   "outputs": [],
   "source": [
    "import matplotlib.pyplot as plt"
   ]
  },
  {
   "cell_type": "code",
   "execution_count": 18,
   "metadata": {},
   "outputs": [
    {
     "data": {
      "image/png": "[encoded data removed]",
      "text/plain": [
       "<Figure size 432x288 with 1 Axes>"
      ]
     },
     "metadata": {
      "needs_background": "light"
     },
     "output_type": "display_data"
    }
   ],
   "source": [
    "blue_avg_level = blue_wins_df.get_column('blueAvgLevel')\n",
    "red_avg_level = blue_wins_df.get_column('redAvgLevel')\n",
    "\n",
    "plt.plot(blue_avg_level, red_avg_level, \"b.\")\n",
    "plt.title('Avg Blue Lv. VS Avg. Red Level (When Blue WINS)')\n",
    "plt.xlabel('Avg. Blue Lvl')\n",
    "plt.ylabel('Av.g Red Lvl')\n",
    "plt.show()"
   ]
  },
  {
   "cell_type": "code",
   "execution_count": 19,
   "metadata": {},
   "outputs": [
    {
     "data": {
      "image/png": "[encoded data removed]",
      "text/plain": [
       "<Figure size 432x288 with 1 Axes>"
      ]
     },
     "metadata": {
      "needs_background": "light"
     },
     "output_type": "display_data"
    }
   ],
   "source": [
    "blue_exp = blue_wins_df.get_column('blueTotalExperience')\n",
    "red_exp = blue_wins_df.get_column('redTotalExperience')\n",
    "\n",
    "plt.plot(blue_exp, red_exp, \"b.\")\n",
    "plt.title('Blue Experience VS Red Experience (When Blue WINS)')\n",
    "plt.xlabel('Blue Experience')\n",
    "plt.ylabel('Red Experience')\n",
    "plt.show()"
   ]
  },
  {
   "cell_type": "code",
   "execution_count": 20,
   "metadata": {},
   "outputs": [
    {
     "data": {
      "image/png": "[encoded data removed]",
      "text/plain": [
       "<Figure size 432x288 with 1 Axes>"
      ]
     },
     "metadata": {
      "needs_background": "light"
     },
     "output_type": "display_data"
    }
   ],
   "source": [
    "blue_gold = blue_wins_df.get_column('blueTotalGold')\n",
    "red_gold = blue_wins_df.get_column('redTotalGold')\n",
    "\n",
    "plt.plot(blue_gold, red_gold, \"b.\")\n",
    "plt.title('Blue Gold VS Avg. Red Gold (When Blue WINS)')\n",
    "plt.xlabel('Blue Gold')\n",
    "plt.ylabel('Red Gold')\n",
    "plt.show()"
   ]
  },
  {
   "cell_type": "markdown",
   "metadata": {},
   "source": [
    "## Does Getting the First Kill Matter?"
   ]
  },
  {
   "cell_type": "code",
   "execution_count": 21,
   "metadata": {},
   "outputs": [
    {
     "data": {
      "image/png": "[encoded data removed]",
      "text/plain": [
       "<Figure size 432x288 with 1 Axes>"
      ]
     },
     "metadata": {
      "needs_background": "light"
     },
     "output_type": "display_data"
    }
   ],
   "source": [
    "x = [1,2]\n",
    "counts = [0,0]\n",
    "for row in blue_wins_df.data:\n",
    "    if row[4] == 1:\n",
    "        counts[0] += 1\n",
    "    elif row[4] == 0:\n",
    "        counts[1] += 1\n",
    "\n",
    "plt.bar(np.arange(len(x)), counts)\n",
    "plt.xticks(np.arange(len(x)), ['Got First Kill', 'Did NOT Get First Kill'])\n",
    "plt.ylabel('Counts')\n",
    "plt.title('Whether Blue Got the First Kill When Blue WINS')\n",
    "plt.show()"
   ]
  },
  {
   "cell_type": "code",
   "execution_count": 22,
   "metadata": {},
   "outputs": [
    {
     "data": {
      "image/png": "[encoded data removed]",
      "text/plain": [
       "<Figure size 432x288 with 1 Axes>"
      ]
     },
     "metadata": {
      "needs_background": "light"
     },
     "output_type": "display_data"
    }
   ],
   "source": [
    "x = [1,2]\n",
    "counts = [0,0]\n",
    "for row in blue_loses_df.data:\n",
    "    if row[23] == 1:\n",
    "        counts[0] += 1\n",
    "    elif row[23] == 0:\n",
    "        counts[1] += 1\n",
    "\n",
    "plt.bar(np.arange(len(x)), counts)\n",
    "plt.xticks(np.arange(len(x)), ['Got First Kill', 'Did NOT Get First Kill'])\n",
    "plt.ylabel('Counts')\n",
    "plt.title('Whether Red Got the First Kill When RED WINS')\n",
    "plt.show()"
   ]
  },
  {
   "cell_type": "markdown",
   "metadata": {},
   "source": [
    "## Calculating and Plotting Kill/Death Ratio"
   ]
  },
  {
   "cell_type": "code",
   "execution_count": 23,
   "metadata": {},
   "outputs": [
    {
     "name": "stdout",
     "output_type": "stream",
     "text": [
      "['gameId', 'blueWins', 'blueWardsPlaced', 'blueWardsDestroyed', 'blueFirstBlood', 'blueKills', 'blueDeaths', 'blueAssists', 'blueEliteMonsters', 'blueDragons', 'blueHeralds', 'blueTowersDestroyed', 'blueTotalGold', 'blueAvgLevel', 'blueTotalExperience', 'blueTotalMinionsKilled', 'blueTotalJungleMinionsKilled', 'blueGoldDiff', 'blueExperienceDiff', 'blueCSPerMin', 'blueGoldPerMin', 'redWardsPlaced', 'redWardsDestroyed', 'redFirstBlood', 'redKills', 'redDeaths', 'redAssists', 'redEliteMonsters', 'redDragons', 'redHeralds', 'redTowersDestroyed', 'redTotalGold', 'redAvgLevel', 'redTotalExperience', 'redTotalMinionsKilled', 'redTotalJungleMinionsKilled', 'redGoldDiff', 'redExperienceDiff', 'redCSPerMin', 'redGoldPerMin']\n"
     ]
    }
   ],
   "source": [
    "print(blue_wins_df.column_names)"
   ]
  },
  {
   "cell_type": "code",
   "execution_count": 24,
   "metadata": {},
   "outputs": [],
   "source": [
    "header = blue_wins_df.column_names\n",
    "header.append(['BlueKillDeathRatio', 'RedKillDeathRatio'])\n",
    "\n",
    "blue_wins_df.column_names = header\n",
    "blue_loses_df.column_names = header\n",
    "\n",
    "for row in blue_wins_df.data:\n",
    "    if row[6] == 0:\n",
    "        if row[25] == 0:\n",
    "            row.append([0,0])\n",
    "        else:\n",
    "            row.append([0, row[24]/row[25]])\n",
    "\n",
    "    if row[25] == 0:\n",
    "        row.append([row[5]/row[6],0])\n",
    "\n",
    "for row in blue_loses_df.data:\n",
    "    if row[6] == 0:\n",
    "        if row[25] == 0:\n",
    "            row.append([0,0])\n",
    "        else:\n",
    "            row.append([0, row[24]/row[25]])\n",
    "\n",
    "    if row[25] == 0:\n",
    "        row.append([row[5]/row[6],0])"
   ]
  },
  {
   "cell_type": "code",
   "execution_count": null,
   "metadata": {},
   "outputs": [],
   "source": []
  }
 ],
 "metadata": {
  "interpreter": {
   "hash": "d4d1e4263499bec80672ea0156c357c1ee493ec2b1c70f0acce89fc37c4a6abe"
  },
  "kernelspec": {
   "display_name": "Python 3.9.7 ('base')",
   "language": "python",
   "name": "python3"
  },
  "language_info": {
   "codemirror_mode": {
    "name": "ipython",
    "version": 3
   },
   "file_extension": ".py",
   "mimetype": "text/x-python",
   "name": "python",
   "nbconvert_exporter": "python",
   "pygments_lexer": "ipython3",
   "version": "3.9.7"
  },
  "orig_nbformat": 4
 },
 "nbformat": 4,
 "nbformat_minor": 2
}
