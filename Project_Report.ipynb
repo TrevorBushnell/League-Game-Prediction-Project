{
 "cells": [
  {
   "cell_type": "markdown",
   "metadata": {},
   "source": [
    "# Predicting the Outcome of League of Legends Games\n",
    "#### Trevor Bushnell and Ben Lombardi\n",
    "\n",
    "## 0. Import Statements"
   ]
  },
  {
   "cell_type": "code",
   "execution_count": 1,
   "metadata": {},
   "outputs": [],
   "source": [
    "import importlib\n",
    "\n",
    "import matplotlib.pyplot as plt\n",
    "\n",
    "import mysklearn.myutils\n",
    "importlib.reload(mysklearn.myutils)\n",
    "import mysklearn.myutils as myutils\n",
    "\n",
    "\n",
    "import mysklearn.mypytable\n",
    "importlib.reload(mysklearn.mypytable)\n",
    "from mysklearn.mypytable import MyPyTable \n",
    "\n",
    "\n",
    "import mysklearn.myclassifiers\n",
    "importlib.reload(mysklearn.myclassifiers)\n",
    "from mysklearn.myclassifiers import MyKNeighborsClassifier, MyDummyClassifier, MyNaiveBayesClassifier, MyDecisionTreeClassifier, MyRandomForestClassifier\n",
    "\n",
    "import mysklearn.myevaluation\n",
    "importlib.reload(mysklearn.myevaluation)\n",
    "import mysklearn.myevaluation as myevaluation\n",
    "\n",
    "import copy\n",
    "import numpy as np"
   ]
  },
  {
   "cell_type": "code",
   "execution_count": 2,
   "metadata": {},
   "outputs": [],
   "source": [
    "# Initialization of classifiers\n",
    "knn_clf = MyKNeighborsClassifier()\n",
    "dummy_clf = MyDummyClassifier()\n",
    "tree_clf = MyDecisionTreeClassifier()\n",
    "nb_clf = MyNaiveBayesClassifier()"
   ]
  },
  {
   "cell_type": "markdown",
   "metadata": {},
   "source": [
    "## 1. Introduction\n",
    "\n",
    "\n",
    "### 1.1: What is League of Legends\n",
    "League of Legends is one of the most popular MOBA (Mobile Online Battle Arena) games to date. In this game, two teams of five champions face off to destroy the other team's base. There are many different champions that you can choose from to build your team, and each champion has their own abilities. As such, there is room for a lot of strategy in League of Legends. \n",
    "\n",
    "Battles in League of Legends generally take a very long time - ranging anywhere from 30 to 40 minutes on average. Since these battles are so long, we are interested in finding out whether or not we can predict the outcome of a League of Legends game from data collected only from the first few minutes of a game. The results of this analysis will be able to better inform League of Legends players about early win conditions for ranked games. While the dataset that we will be using is 2 years old, the strategies and meta of League of Legends is still fairly similar. Additionally, by identifying which attributes are strong predictors of success, the results of this analysis could help Riot Games (the publisher of League) better balance the game. \n",
    "\n",
    "\n",
    "\n",
    "### 1.2: Overview of the Dataset\n",
    "The dataset that we will be using is the [League of Legends Diamond Ranked Games (10 mins )](https://www.kaggle.com/datasets/bobbyscience/league-of-legends-diamond-ranked-games-10-min) on kaggle. This dataset contains various different statistics such as the number of kills on each team, the amount of gold collected on each team, etc. There are roughly 10,000 games in our dataset. Since there are so many games to train on, we randomly selected 3,000 games from the dataset to keep (this way we can have a perfect 2:1 split for classification tasks). We will use the various attributes in this dataset to help us predict whether **the blue team wins or loses**. \n",
    "\n",
    "\n",
    "### 1.3: Classification Results\n",
    "\n",
    "**WILL PUT THE CLASSIFICATION RESULTS HERE ONCE WE HAVE THEM**"
   ]
  },
  {
   "cell_type": "markdown",
   "metadata": {},
   "source": [
    "## 2. Data Analysis\n",
    "\n",
    "### 2.1: Information About the Dataset\n",
    "\n",
    "This dataset is comprised of a csv file that contains information on the first 10 minutes of roughly 10,000 ranked games (Solo Queue) from high elo (Diamond 1 to Masters) in 2020. There are 19 attributes per team (38 total). These attributes include attributes such as average level, total gold, gold difference at 10 min, number of kills, number of deaths, number of objectives taken, and much more. If necessary we can grab more attributes for each instance with the Riot API. The attibute that we will be trying to predict is whether or not the blue team wins. This attribute takes the value of 1 if the blue team wins and 0 otherwise.\n",
    "\n",
    "Here is the breakdown of the attributes that are in our dataset. Note that excluding gameId, each team has each of the following attributes. As such, we will only be listing each attribute once from the blue team.\n",
    "\n",
    "* gameId: Unique RIOT ID of the game, for use with the [Riot Games API](https://developer.riotgames.com/)\n",
    "* **blueWins** (class label): 1 if blue wins, 0 if blue loses\n",
    "* blueWardsPlaced: Number of warding totems placed by the blue team on the map\n",
    "* blueWardsDestroyed: number of enemy warding totems the blue team has destroyed\n",
    "* blueFirstBlood: 1 if blue got the first kill, 0 otherwise\n",
    "* blueKills: number of enemies killed by the blue team\n",
    "* blueDeaths: number of deaths on the blue team\n",
    "* blueAssists: number of kill assists\n",
    "* blueEliteMonsters: number of elite monsters killed by the blue team\n",
    "* blueDragons: number of dragons killed by the blue team\n",
    "* blueHeralds: number of heralds killed by the blue team\n",
    "* blueTowersDestroyed: number of structures destroyed by the blue team\n",
    "* blueTotalGold: blue team's total gold\n",
    "* blueAvgLevel: the average champion level\n",
    "* blueTotalExperience: total experience collected by the blue team\n",
    "* blueTotalMinionsKilled: total number of minions killed by the blue team\n",
    "* blueTotalJungleMonstersKilled: total number of jungle monsters killed by the blue team\n",
    "* blueGoldDiff: gold difference for the blue team compared to the red team. Positive means blue team has more gold, negative means that blue team has less gold\n",
    "* blueExperienceDiff: experience difference for the blue team compared to the red team. Positive means blue team has more exp, negative means blue team has less exp\n",
    "* blueCSPerMin: (average) number of minion deaths per minute by the blue team\n",
    "* blueGoldPerMin: (average) blue team gold collected per minute\n",
    "\n",
    "As previously mentioned, we are randomly sampling 3000 games from our 10000 games in our dataset to use for our classification tasks. In the following code cell, we import our data and randomly sample the 3000 games that we will be using for our classification tasks:"
   ]
  },
  {
   "cell_type": "code",
   "execution_count": 3,
   "metadata": {},
   "outputs": [],
   "source": [
    "df = MyPyTable()\n",
    "df.load_from_file(\"high_diamond_ranked_10min.csv\")\n",
    "y = df.get_column(\"blueWins\")\n",
    "\n",
    "X = copy.deepcopy(df.data)\n",
    "# randomizing indexes to sort out a stratified sample\n",
    "X_indexes = [ i for i in range(len(X))]\n",
    "myutils.randomize_in_place(X_indexes,y,0)\n",
    "grouped_X =[]\n",
    "grouped_y = []\n",
    "for i in range(len(X)):\n",
    "    if grouped_y.count(y[i]) >0:\n",
    "        grouped_X[grouped_y.index(y[i])].append(X_indexes[i])\n",
    "    else:\n",
    "        grouped_y.append(y[i])\n",
    "        grouped_X.append([X_indexes[i]])\n",
    "X_data = []\n",
    "y_data = []\n",
    "for i in range(1500):\n",
    "    for j in range(len(grouped_X)):\n",
    "        X_data.append(X[grouped_X[j][i]])\n",
    "        y_data.append(grouped_y[j])\n",
    "\n",
    "X = copy.deepcopy(X_data)\n",
    "\n",
    "y = copy.deepcopy(y_data)\n",
    "for entry in X:\n",
    "    del entry[0]\n",
    "    del entry[0]\n",
    "\n",
    "# Let's put this additional data into our df object as well for data viz\n",
    "new_data = []\n",
    "for i in range(len(df.data)):\n",
    "    if i in X_indexes:\n",
    "        new_data.append(df.data[i])\n",
    "\n",
    "df.data = new_data"
   ]
  },
  {
   "cell_type": "markdown",
   "metadata": {},
   "source": [
    "### 2.2: Relevant Summary Statistics About the Dataset\n",
    "\n",
    "**TO BE FILLED IN**"
   ]
  },
  {
   "cell_type": "markdown",
   "metadata": {},
   "source": [
    "### 2.3: Data Visualizations\n",
    "\n",
    "The following are some graphs that help us identify some interesting relationships in our dataset. To begin, let's sort the data into TWO tables with all the data of blue wins and all the data of red wins:"
   ]
  },
  {
   "cell_type": "code",
   "execution_count": 4,
   "metadata": {},
   "outputs": [],
   "source": [
    "blue_wins_table = []\n",
    "blue_loses_table = []\n",
    "\n",
    "for row in df.data:\n",
    "    if row[1] == 1: # blue wins\n",
    "        blue_wins_table.append(row)\n",
    "    elif row[1] == 0: # red wins\n",
    "        blue_loses_table.append(row)\n",
    "\n",
    "blue_wins_df = MyPyTable(column_names=df.column_names, data=blue_wins_table)\n",
    "blue_loses_df = MyPyTable(column_names=df.column_names, data=blue_loses_table)"
   ]
  },
  {
   "cell_type": "markdown",
   "metadata": {},
   "source": [
    "Now that we have this, we can start drawing some graphs and see some patterns in our dataset.\n",
    "\n",
    "#### 2.2.1: Comparing Various Attributes for Blue VS Red When Blue Wins"
   ]
  },
  {
   "cell_type": "code",
   "execution_count": 5,
   "metadata": {},
   "outputs": [
    {
     "data": {
      "image/png": "[encoded data removed]",
      "text/plain": [
       "<Figure size 432x288 with 1 Axes>"
      ]
     },
     "metadata": {
      "needs_background": "light"
     },
     "output_type": "display_data"
    }
   ],
   "source": [
    "blue_avg_level = blue_wins_df.get_column('blueAvgLevel')\n",
    "red_avg_level = blue_wins_df.get_column('redAvgLevel')\n",
    "\n",
    "plt.plot(blue_avg_level, red_avg_level, \"b.\")\n",
    "plt.title('Fig 1: Avg Blue Lv. VS Avg. Red Level (When Blue WINS)')\n",
    "plt.xlabel('Avg. Blue Lvl')\n",
    "plt.ylabel('Av.g Red Lvl')\n",
    "plt.show()"
   ]
  },
  {
   "cell_type": "code",
   "execution_count": 6,
   "metadata": {},
   "outputs": [
    {
     "data": {
      "image/png": "[encoded data removed]",
      "text/plain": [
       "<Figure size 432x288 with 1 Axes>"
      ]
     },
     "metadata": {
      "needs_background": "light"
     },
     "output_type": "display_data"
    }
   ],
   "source": [
    "blue_exp = blue_wins_df.get_column('blueTotalExperience')\n",
    "red_exp = blue_wins_df.get_column('redTotalExperience')\n",
    "\n",
    "plt.plot(blue_exp, red_exp, \"b.\")\n",
    "plt.title('Fig 2: Blue Experience VS Red Experience (When Blue WINS)')\n",
    "plt.xlabel('Blue Experience')\n",
    "plt.ylabel('Red Experience')\n",
    "plt.show()"
   ]
  },
  {
   "cell_type": "code",
   "execution_count": 7,
   "metadata": {},
   "outputs": [
    {
     "data": {
      "image/png": "[encoded data removed]",
      "text/plain": [
       "<Figure size 432x288 with 1 Axes>"
      ]
     },
     "metadata": {
      "needs_background": "light"
     },
     "output_type": "display_data"
    }
   ],
   "source": [
    "blue_gold = blue_wins_df.get_column('blueTotalGold')\n",
    "red_gold = blue_wins_df.get_column('redTotalGold')\n",
    "\n",
    "plt.plot(blue_gold, red_gold, \"b.\")\n",
    "plt.title('Fig 3: Blue Gold VS Red Gold (When Blue WINS)')\n",
    "plt.xlabel('Blue Gold')\n",
    "plt.ylabel('Red Gold')\n",
    "plt.show()"
   ]
  },
  {
   "cell_type": "markdown",
   "metadata": {},
   "source": [
    "**EXPLANATION OF THESE GRAPHS TO GO HERE**\n",
    "\n",
    "#### 2.2.2: Determining If Getting the First Kill Matters"
   ]
  },
  {
   "cell_type": "code",
   "execution_count": 8,
   "metadata": {},
   "outputs": [
    {
     "data": {
      "image/png": "[encoded data removed]",
      "text/plain": [
       "<Figure size 432x288 with 1 Axes>"
      ]
     },
     "metadata": {
      "needs_background": "light"
     },
     "output_type": "display_data"
    }
   ],
   "source": [
    "x = [1,2]\n",
    "counts = [0,0]\n",
    "for row in blue_wins_df.data:\n",
    "    if row[4] == 1:\n",
    "        counts[0] += 1\n",
    "    elif row[4] == 0:\n",
    "        counts[1] += 1\n",
    "\n",
    "plt.bar(np.arange(len(x)), counts)\n",
    "plt.xticks(np.arange(len(x)), ['Got First Kill', 'Did NOT Get First Kill'])\n",
    "plt.ylabel('Counts')\n",
    "plt.title('Fig 4: Whether Blue Got the First Kill When Blue WINS')\n",
    "plt.show()"
   ]
  },
  {
   "cell_type": "code",
   "execution_count": 9,
   "metadata": {},
   "outputs": [
    {
     "data": {
      "image/png": "[encoded data removed]",
      "text/plain": [
       "<Figure size 432x288 with 1 Axes>"
      ]
     },
     "metadata": {
      "needs_background": "light"
     },
     "output_type": "display_data"
    }
   ],
   "source": [
    "x = [1,2]\n",
    "counts = [0,0]\n",
    "for row in blue_loses_df.data:\n",
    "    if row[23] == 1:\n",
    "        counts[0] += 1\n",
    "    elif row[23] == 0:\n",
    "        counts[1] += 1\n",
    "\n",
    "plt.bar(np.arange(len(x)), counts)\n",
    "plt.xticks(np.arange(len(x)), ['Got First Kill', 'Did NOT Get First Kill'])\n",
    "plt.ylabel('Counts')\n",
    "plt.title('Fig 5: Whether Red Got the First Kill When RED WINS')\n",
    "plt.show()"
   ]
  },
  {
   "cell_type": "markdown",
   "metadata": {},
   "source": [
    "**COMMENTS ABOUT THESE GRAPHS WILL GO HERE**\n",
    "\n",
    "#### 2.2.3: Calculating and Plotting the Kill/Death Ratio\n",
    "\n",
    "To help have a better measure for death on both teams, we will calculate the KD ratio. This statistic is very simple and can be calculated likeso:\n",
    "\n",
    "$$\n",
    "KD = \\frac{\\text{\\# of kills}}{\\text{\\# of deaths}}\n",
    "$$\n",
    "\n",
    "The following code adds this new attribute for each team to the dataset:"
   ]
  },
  {
   "cell_type": "code",
   "execution_count": 10,
   "metadata": {},
   "outputs": [
    {
     "name": "stdout",
     "output_type": "stream",
     "text": [
      "['gameId', 'blueWins', 'blueWardsPlaced', 'blueWardsDestroyed', 'blueFirstBlood', 'blueKills', 'blueDeaths', 'blueAssists', 'blueEliteMonsters', 'blueDragons', 'blueHeralds', 'blueTowersDestroyed', 'blueTotalGold', 'blueAvgLevel', 'blueTotalExperience', 'blueTotalMinionsKilled', 'blueTotalJungleMinionsKilled', 'blueGoldDiff', 'blueExperienceDiff', 'blueCSPerMin', 'blueGoldPerMin', 'redWardsPlaced', 'redWardsDestroyed', 'redFirstBlood', 'redKills', 'redDeaths', 'redAssists', 'redEliteMonsters', 'redDragons', 'redHeralds', 'redTowersDestroyed', 'redTotalGold', 'redAvgLevel', 'redTotalExperience', 'redTotalMinionsKilled', 'redTotalJungleMinionsKilled', 'redGoldDiff', 'redExperienceDiff', 'redCSPerMin', 'redGoldPerMin', 'BlueKillDeathRatio', 'RedKillDeathRatio']\n"
     ]
    }
   ],
   "source": [
    "header = blue_wins_df.column_names\n",
    "header += ['BlueKillDeathRatio', 'RedKillDeathRatio']\n",
    "\n",
    "blue_wins_df.column_names = header\n",
    "blue_loses_df.column_names = header\n",
    "print(blue_wins_df.column_names)"
   ]
  },
  {
   "cell_type": "code",
   "execution_count": 11,
   "metadata": {},
   "outputs": [],
   "source": [
    "for i in range(len(blue_wins_df.data)):\n",
    "    if blue_wins_df.data[i][6] == 0:\n",
    "        blue_wins_df.data[i].append(0)\n",
    "    else:\n",
    "        blue_wins_df.data[i].append(blue_wins_df.data[i][5]/blue_wins_df.data[i][6])\n",
    "\n",
    "for i in range(len(blue_wins_df.data)):\n",
    "    if blue_wins_df.data[i][25] == 0:\n",
    "        blue_wins_df.data[i].append(0)\n",
    "    else:\n",
    "        blue_wins_df.data[i].append(blue_wins_df.data[i][24]/blue_wins_df.data[i][25])\n",
    "\n",
    "for i in range(len(blue_loses_df.data)):\n",
    "    if blue_loses_df.data[i][6] == 0:\n",
    "        blue_loses_df.data[i].append(0)\n",
    "    else:\n",
    "        blue_loses_df.data[i].append(blue_loses_df.data[i][5]/blue_loses_df.data[i][6])\n",
    "\n",
    "for i in range(len(blue_loses_df.data)):\n",
    "    if blue_loses_df.data[i][25] == 0:\n",
    "        blue_loses_df.data[i].append(0)\n",
    "    else:\n",
    "        blue_loses_df.data[i].append(blue_loses_df.data[i][24]/blue_loses_df.data[i][25])"
   ]
  },
  {
   "cell_type": "code",
   "execution_count": 12,
   "metadata": {},
   "outputs": [],
   "source": [
    "# We also need to do this for our X dataset\n",
    "for i in range(len(X)):\n",
    "    if X[i][6] == 0:\n",
    "        X[i].append(0)\n",
    "    else:\n",
    "        X[i].append(X[i][5]/X[i][6])\n",
    "\n",
    "for i in range(len(X)):\n",
    "    if X[i][25] == 0:\n",
    "        X[i].append(0)\n",
    "    else:\n",
    "        X[i].append(X[i][24]/X[i][25])    "
   ]
  },
  {
   "cell_type": "markdown",
   "metadata": {},
   "source": [
    "Using this data, we can generate a graph comparing the KD ratio of the blue team to the KD ratio of the red team:"
   ]
  },
  {
   "cell_type": "code",
   "execution_count": 16,
   "metadata": {},
   "outputs": [
    {
     "data": {
      "image/png": "[encoded data removed]",
      "text/plain": [
       "<Figure size 432x288 with 1 Axes>"
      ]
     },
     "metadata": {
      "needs_background": "light"
     },
     "output_type": "display_data"
    }
   ],
   "source": [
    "blue_kd_ratio = blue_wins_df.get_column('BlueKillDeathRatio')\n",
    "red_kd_ratio = blue_wins_df.get_column('RedKillDeathRatio')\n",
    "\n",
    "plt.plot(blue_kd_ratio, red_kd_ratio, \"b.\")\n",
    "plt.title('Fig 6: Blue KD Ratio VS Red KD Ratio (When Blue WINS)')\n",
    "plt.xlabel('Blue KD Ratio')\n",
    "plt.ylabel('Red KD Ratio')\n",
    "plt.show()"
   ]
  },
  {
   "cell_type": "markdown",
   "metadata": {},
   "source": [
    "This graph produces a very interesting relationship: when the blue team wins and the kd ratio for the blue team increases, the kd ratio for the red team decreases. This is the strongest relationship out of all of the data that we have noticed in our data analysis."
   ]
  },
  {
   "cell_type": "markdown",
   "metadata": {},
   "source": [
    "## 3. Classification Results\n",
    "\n",
    "### 3.1: Initial Classification\n",
    "\n",
    "We started our classification task by getting an initial classification using the holdout method with all of the attributes in the dataset and calculating the statistics that went with it. "
   ]
  },
  {
   "cell_type": "code",
   "execution_count": 17,
   "metadata": {},
   "outputs": [
    {
     "name": "stdout",
     "output_type": "stream",
     "text": [
      "\n",
      "Hold-Out Method\n",
      "kNN Classifier : accuracy =  0.6909090909090909  error =  0.3090909090909091\n",
      "binary precision:  0.6915322580645161\n",
      "binary recall:  0.6915322580645161\n",
      "f1 score:  0.6915322580645161\n",
      "Confusion Matrix\n",
      "[[341, 153], [153, 343]]\n",
      "\n",
      "Hold-Out Method\n",
      "Dummy Classifier : accuracy =  0.5  error =  0.5\n",
      "binary precision:  0.0\n",
      "binary recall:  0.0\n",
      "f1 score:  0\n",
      "Confusion Matrix\n",
      "[[495, 0], [495, 0]]\n"
     ]
    }
   ],
   "source": [
    "myutils.compute_clf_stats(knn_clf,X,y,\"kNN Classifier\")\n",
    "myutils.compute_clf_stats(dummy_clf,X,y,\"Dummy Classifier\")"
   ]
  },
  {
   "cell_type": "markdown",
   "metadata": {},
   "source": [
    "Next, we went ahead and discretized our data. By doing this, we would be able to use a random forest classifier and a Naive Bayes classifier more effectively since our implementations of these classifiers only worked for discrete attributes."
   ]
  },
  {
   "cell_type": "code",
   "execution_count": 18,
   "metadata": {},
   "outputs": [],
   "source": [
    "# equal width binning\n",
    "X = copy.deepcopy(X_data)\n",
    "y = [str(value) for value in y]\n",
    "for entry in X:\n",
    "    del entry[0:2]\n",
    "    del entry[-9:-1]\n",
    "    del entry[-1]\n",
    "    del entry[10:15]\n",
    "    del entry[12:14]\n",
    "for j in range(len(X[0])):\n",
    "    binned_col = myutils.binning([row[j] for row in X])\n",
    "    for i in range(len(X)):\n",
    "        X[i][j] = binned_col[i]\n"
   ]
  },
  {
   "cell_type": "markdown",
   "metadata": {},
   "source": [
    "Finally, we saw that we had lots of attributes, so we went ahead and trimmed down the number of attributes that we had so that our classifiers didn't have to work through so many attributes."
   ]
  },
  {
   "cell_type": "code",
   "execution_count": 19,
   "metadata": {},
   "outputs": [
    {
     "name": "stdout",
     "output_type": "stream",
     "text": [
      "['blueWardsPlaced', 'blueWardsDestroyed', 'blueFirstBlood', 'blueKills', 'blueDeaths', 'blueAssists', 'blueEliteMonsters', 'blueDragons', 'blueHeralds', 'blueTowersDestroyed', 'blueGoldDiff', 'blueExperienceDiff', 'redWardsPlaced', 'redWardsDestroyed', 'redFirstBlood', 'redKills', 'redDeaths', 'redAssists', 'redEliteMonsters', 'redDragons', 'redHeralds', 'redTowersDestroyed']\n"
     ]
    }
   ],
   "source": [
    "header = df.column_names.copy()\n",
    "del header[0:2]\n",
    "del header[-9:-1]\n",
    "del header[-1]\n",
    "del header[10:15]\n",
    "del header[12:14]\n",
    "print(header)"
   ]
  },
  {
   "cell_type": "code",
   "execution_count": 20,
   "metadata": {},
   "outputs": [
    {
     "name": "stdout",
     "output_type": "stream",
     "text": [
      "\n",
      "Hold-Out Method\n",
      "kNN Classifier : accuracy =  0.6525252525252525  error =  0.3474747474747475\n",
      "binary precision:  0.6583333333333333\n",
      "binary recall:  0.6370967741935484\n",
      "f1 score:  0.6475409836065574\n",
      "Confusion Matrix\n",
      "[[316, 180], [164, 330]]\n",
      "\n",
      "Hold-Out Method\n",
      "Dummy Classifier : accuracy =  0.5  error =  0.5\n",
      "binary precision:  0.0\n",
      "binary recall:  0.0\n",
      "f1 score:  0\n",
      "Confusion Matrix\n",
      "[[495, 0], [495, 0]]\n"
     ]
    }
   ],
   "source": [
    "X = copy.deepcopy(X_data)\n",
    "\n",
    "for entry in X:\n",
    "    del entry[0:2]\n",
    "    del entry[-9:-1]\n",
    "    del entry[-1]\n",
    "    del entry[10:15]\n",
    "    del entry[12:14]\n",
    "\n",
    "myutils.compute_clf_stats(knn_clf,X,y,\"kNN Classifier\")\n",
    "myutils.compute_clf_stats(dummy_clf,X,y,\"Dummy Classifier\")"
   ]
  },
  {
   "cell_type": "markdown",
   "metadata": {},
   "source": [
    "### 3.2: kNN Classifier\n",
    "\n",
    "Next, we ran various kNN classifications for various values of $k$ to see what kinds of classification results we could find.\n",
    "\n",
    "**GO ON TO DO THIS LATER**"
   ]
  },
  {
   "cell_type": "code",
   "execution_count": 21,
   "metadata": {},
   "outputs": [
    {
     "name": "stdout",
     "output_type": "stream",
     "text": [
      "Hold-Out Method\n",
      "Random Forest : accuracy =  0.6525252525252525  error =  0.3474747474747475\n"
     ]
    }
   ],
   "source": [
    "# kNN with 3 neighbors\n",
    "X_train, X_test, y_train,y_test = myevaluation.train_test_split(X,y,random_state=0)\n",
    "\n",
    "knn_clf = MyKNeighborsClassifier(n_neighbors=3)\n",
    "knn_clf.fit(X_train,y_train)\n",
    "y_pred_knn_clf = knn_clf.predict(X_test)\n",
    "\n",
    "accuracy = myevaluation.accuracy_score(y_test,y_pred_knn_clf)\n",
    "print(\"Hold-Out Method\")\n",
    "print(\"Random Forest : accuracy = \", accuracy, \" error = \", 1 - accuracy)"
   ]
  },
  {
   "cell_type": "code",
   "execution_count": 22,
   "metadata": {},
   "outputs": [
    {
     "name": "stdout",
     "output_type": "stream",
     "text": [
      "Hold-Out Method\n",
      "Random Forest : accuracy =  0.6717171717171717  error =  0.3282828282828283\n"
     ]
    }
   ],
   "source": [
    "# kNN with 5 neighbors\n",
    "X_train, X_test, y_train,y_test = myevaluation.train_test_split(X,y,random_state=0)\n",
    "\n",
    "knn_clf = MyKNeighborsClassifier(n_neighbors=5)\n",
    "knn_clf.fit(X_train,y_train)\n",
    "y_pred_knn_clf = knn_clf.predict(X_test)\n",
    "\n",
    "accuracy = myevaluation.accuracy_score(y_test,y_pred_knn_clf)\n",
    "print(\"Hold-Out Method\")\n",
    "print(\"Random Forest : accuracy = \", accuracy, \" error = \", 1 - accuracy)"
   ]
  },
  {
   "cell_type": "code",
   "execution_count": 23,
   "metadata": {},
   "outputs": [
    {
     "name": "stdout",
     "output_type": "stream",
     "text": [
      "Hold-Out Method\n",
      "Random Forest : accuracy =  0.6838383838383838  error =  0.3161616161616162\n"
     ]
    }
   ],
   "source": [
    "# kNN with 7 neighbors\n",
    "X_train, X_test, y_train,y_test = myevaluation.train_test_split(X,y,random_state=0)\n",
    "\n",
    "knn_clf = MyKNeighborsClassifier(n_neighbors=7)\n",
    "knn_clf.fit(X_train,y_train)\n",
    "y_pred_knn_clf = knn_clf.predict(X_test)\n",
    "\n",
    "accuracy = myevaluation.accuracy_score(y_test,y_pred_knn_clf)\n",
    "print(\"Hold-Out Method\")\n",
    "print(\"Random Forest : accuracy = \", accuracy, \" error = \", 1 - accuracy)"
   ]
  },
  {
   "cell_type": "code",
   "execution_count": 24,
   "metadata": {},
   "outputs": [
    {
     "name": "stdout",
     "output_type": "stream",
     "text": [
      "Hold-Out Method\n",
      "Random Forest : accuracy =  0.7  error =  0.30000000000000004\n"
     ]
    }
   ],
   "source": [
    "# kNN with 10 neighbors\n",
    "X_train, X_test, y_train,y_test = myevaluation.train_test_split(X,y,random_state=0)\n",
    "\n",
    "knn_clf = MyKNeighborsClassifier(n_neighbors=10)\n",
    "knn_clf.fit(X_train,y_train)\n",
    "y_pred_knn_clf = knn_clf.predict(X_test)\n",
    "\n",
    "accuracy = myevaluation.accuracy_score(y_test,y_pred_knn_clf)\n",
    "print(\"Hold-Out Method\")\n",
    "print(\"Random Forest : accuracy = \", accuracy, \" error = \", 1 - accuracy)"
   ]
  },
  {
   "cell_type": "markdown",
   "metadata": {},
   "source": [
    "### 3.3: Naive Bayes Classifier\n",
    "\n",
    "We folloed up our kNN classification with some Naive Bayes classifiers in an attempt to see if our Naive Bayes would outperform our kNN classifiers (even though we had to discretize the data so that our Naive Bayes classifier would work as intended).\n",
    "\n",
    "**DO THIS LATER**"
   ]
  },
  {
   "cell_type": "code",
   "execution_count": 25,
   "metadata": {},
   "outputs": [
    {
     "name": "stdout",
     "output_type": "stream",
     "text": [
      "Hold-Out Method\n",
      "Random Forest : accuracy =  0.6494949494949495  error =  0.35050505050505054\n"
     ]
    }
   ],
   "source": [
    "# Naive Bayes classifier\n",
    "X_train, X_test, y_train,y_test = myevaluation.train_test_split(X,y,random_state=0)\n",
    "\n",
    "nb_clf = MyKNeighborsClassifier(n_neighbors=3)\n",
    "nb_clf.fit(X_train,y_train)\n",
    "y_pred_nb_clf = nb_clf.predict(X_test)\n",
    "\n",
    "accuracy = myevaluation.accuracy_score(y_test,y_pred_nb_clf)\n",
    "print(\"Hold-Out Method\")\n",
    "print(\"Random Forest : accuracy = \", accuracy, \" error = \", 1 - accuracy)"
   ]
  },
  {
   "cell_type": "markdown",
   "metadata": {},
   "source": [
    "### 3.4: Random Forest Classifier\n",
    "\n",
    "We finally ended our classification process by implementing and utilizing a random forest cluster. Using our discretized data, we were able to run our random forest classifier and get the following results:"
   ]
  },
  {
   "cell_type": "code",
   "execution_count": null,
   "metadata": {},
   "outputs": [],
   "source": [
    "X_train, X_test, y_train,y_test = myevaluation.train_test_split(X,y,random_state=0)\n",
    "\n",
    "forest_clf = MyRandomForestClassifier()\n",
    "forest_clf.fit(X_train,y_train,5,3,3)\n",
    "y_pred_clf = forest_clf.predict(X_test)\n",
    "\n",
    "accuracy = myevaluation.accuracy_score(y_test,y_pred_clf)\n",
    "print(\"Hold-Out Method\")\n",
    "print(\"Random Forest : accuracy = \", accuracy, \" error = \", 1 - accuracy)"
   ]
  },
  {
   "cell_type": "code",
   "execution_count": null,
   "metadata": {},
   "outputs": [],
   "source": [
    "X_train, X_test, y_train,y_test = myevaluation.train_test_split(X,y,random_state=0)\n",
    "\n",
    "forest_clf = MyRandomForestClassifier()\n",
    "forest_clf.fit(X_train,y_train,20,11,3)\n",
    "y_pred_clf = forest_clf.predict(X_test)\n",
    "\n",
    "accuracy = myevaluation.accuracy_score(y_test,y_pred_clf)\n",
    "print(\"Hold-Out Method\")\n",
    "print(\"Random Forest : accuracy = \", accuracy, \" error = \", 1 - accuracy)"
   ]
  },
  {
   "cell_type": "code",
   "execution_count": null,
   "metadata": {},
   "outputs": [],
   "source": [
    "X_train, X_test, y_train,y_test = myevaluation.train_test_split(X,y,random_state=0)\n",
    "\n",
    "forest_clf = MyRandomForestClassifier()\n",
    "forest_clf.fit(X_train,y_train,20,7,5)\n",
    "y_pred_clf = forest_clf.predict(X_test)\n",
    "\n",
    "accuracy = myevaluation.accuracy_score(y_test,y_pred_clf)\n",
    "print(\"Hold-Out Method\")\n",
    "print(\"Random Forest : accuracy = \", accuracy, \" error = \", 1 - accuracy)"
   ]
  },
  {
   "cell_type": "code",
   "execution_count": null,
   "metadata": {},
   "outputs": [],
   "source": [
    "X_train, X_test, y_train,y_test = myevaluation.train_test_split(X,y,random_state=0)\n",
    "\n",
    "forest_clf = MyRandomForestClassifier()\n",
    "forest_clf.fit(X_train,y_train,20,7,10)\n",
    "y_pred_clf = forest_clf.predict(X_test)\n",
    "\n",
    "accuracy = myevaluation.accuracy_score(y_test,y_pred_clf)\n",
    "print(\"Hold-Out Method\")\n",
    "print(\"Random Forest : accuracy = \", accuracy, \" error = \", 1 - accuracy)"
   ]
  },
  {
   "cell_type": "code",
   "execution_count": null,
   "metadata": {},
   "outputs": [],
   "source": [
    "X = copy.deepcopy(X_data)\n",
    "y = [str(value) for value in y]\n",
    "for entry in X:\n",
    "    del entry[0:2]\n",
    "for j in range(len(X[0])):\n",
    "    binned_col = myutils.binning([row[j] for row in X])\n",
    "    for i in range(len(X)):\n",
    "        X[i][j] = binned_col[i]"
   ]
  },
  {
   "cell_type": "code",
   "execution_count": null,
   "metadata": {},
   "outputs": [],
   "source": [
    "X_train, X_test, y_train,y_test = myevaluation.train_test_split(X,y,random_state=0)\n",
    "M_vals = [10,20,20,40,50]\n",
    "F_vals = [3,5,7,9,11]\n",
    "\n",
    "for m in M_vals:\n",
    "    for f in F_vals:\n",
    "        forest_clf = MyRandomForestClassifier()\n",
    "        forest_clf.fit(X_train,y_train,m,m//3,f)\n",
    "        y_pred_clf = forest_clf.predict(X_test)\n",
    "\n",
    "        accuracy = myevaluation.accuracy_score(y_test,y_pred_clf)\n",
    "        print(\"Hold-Out Method: M = \", m, \" N = \", m//3, \" F = \", f)\n",
    "        print(\"Random Forest : accuracy = \", accuracy, \" error = \", 1 - accuracy)"
   ]
  },
  {
   "cell_type": "code",
   "execution_count": null,
   "metadata": {},
   "outputs": [],
   "source": [
    "X_train, X_test, y_train,y_test = myevaluation.train_test_split(X,y,random_state=0)\n",
    "\n",
    "forest_clf = MyRandomForestClassifier()\n",
    "forest_clf.fit(X_train,y_train,50,10,4)\n",
    "y_pred_clf = forest_clf.predict(X_test)\n",
    "\n",
    "accuracy = myevaluation.accuracy_score(y_test,y_pred_clf)\n",
    "print(\"Hold-Out Method\")\n",
    "print(\"Random Forest : accuracy = \", accuracy, \" error = \", 1 - accuracy)"
   ]
  },
  {
   "cell_type": "code",
   "execution_count": null,
   "metadata": {},
   "outputs": [],
   "source": [
    "X_train, X_test, y_train,y_test = myevaluation.train_test_split(X,y,random_state=0)\n",
    "\n",
    "forest_clf = MyRandomForestClassifier()\n",
    "forest_clf.fit(X_train,y_train,50,11,8)\n",
    "y_pred_clf = forest_clf.predict(X_test)\n",
    "\n",
    "accuracy = myevaluation.accuracy_score(y_test,y_pred_clf)\n",
    "print(\"Hold-Out Method\")\n",
    "print(\"Random Forest : accuracy = \", accuracy, \" error = \", 1 - accuracy)"
   ]
  },
  {
   "cell_type": "code",
   "execution_count": null,
   "metadata": {},
   "outputs": [],
   "source": [
    "X_train, X_test, y_train,y_test = myevaluation.train_test_split(X,y,random_state=0)\n",
    "\n",
    "forest_clf = MyRandomForestClassifier()\n",
    "forest_clf.fit(X_train,y_train,50,11,15)\n",
    "y_pred_clf = forest_clf.predict(X_test)\n",
    "\n",
    "accuracy = myevaluation.accuracy_score(y_test,y_pred_clf)\n",
    "print(\"Hold-Out Method\")\n",
    "print(\"Random Forest : accuracy = \", accuracy, \" error = \", 1 - accuracy)"
   ]
  },
  {
   "cell_type": "markdown",
   "metadata": {},
   "source": [
    "Now we seek to find a compact feature set for a predictor to deploy to the web."
   ]
  },
  {
   "cell_type": "code",
   "execution_count": null,
   "metadata": {},
   "outputs": [],
   "source": [
    "header = df.column_names.copy()\n",
    "\n",
    "del header[0:8]\n",
    "del header[2:9]\n",
    "del header[4:]\n",
    "print(header)\n",
    "\n",
    "X = copy.deepcopy(X_data)\n",
    "y = [str(value) for value in y]\n",
    "for entry in X:\n",
    "    del entry[0:8]\n",
    "    del entry[2:9]\n",
    "    del entry[4:]\n",
    "for j in range(len(X[0])):\n",
    "    binned_col = myutils.binning([row[j] for row in X])\n",
    "    for i in range(len(X)):\n",
    "        X[i][j] = binned_col[i]"
   ]
  },
  {
   "cell_type": "code",
   "execution_count": null,
   "metadata": {},
   "outputs": [],
   "source": [
    "myutils.compute_clf_stats(knn_clf,X,y,\"kNN Classifier\")\n",
    "myutils.compute_clf_stats(tree_clf,X,y,\"Decision Tree Classifier\")\n",
    "myutils.compute_clf_stats(nb_clf,X,y,\"Naive_Bayes Classifier\")\n",
    "\n",
    "print(tree_clf.attribute_domains)\n",
    "\n",
    "X_train, X_test, y_train,y_test = myevaluation.train_test_split(X,y,random_state=0)\n",
    "forest_clf = MyRandomForestClassifier()\n",
    "forest_clf.fit(X_train,y_train,10,3,2)\n",
    "y_pred_clf = forest_clf.predict(X_test)\n",
    "\n",
    "accuracy = myevaluation.accuracy_score(y_test,y_pred_clf)\n",
    "print()\n",
    "print(\"Hold-Out Method\")\n",
    "print(\"Random Forest Classifier: accuracy = \", accuracy, \" error = \", 1 - accuracy)\n"
   ]
  },
  {
   "cell_type": "markdown",
   "metadata": {},
   "source": [
    "## 4. Conclusion\n",
    "\n",
    "**TO BE WRITTEN**"
   ]
  }
 ],
 "metadata": {
  "interpreter": {
   "hash": "d4d1e4263499bec80672ea0156c357c1ee493ec2b1c70f0acce89fc37c4a6abe"
  },
  "kernelspec": {
   "display_name": "Python 3.9.7 ('base')",
   "language": "python",
   "name": "python3"
  },
  "language_info": {
   "codemirror_mode": {
    "name": "ipython",
    "version": 3
   },
   "file_extension": ".py",
   "mimetype": "text/x-python",
   "name": "python",
   "nbconvert_exporter": "python",
   "pygments_lexer": "ipython3",
   "version": "3.9.7"
  },
  "orig_nbformat": 4
 },
 "nbformat": 4,
 "nbformat_minor": 2
}
