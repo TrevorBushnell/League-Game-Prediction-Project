{
 "cells": [
  {
   "cell_type": "code",
   "execution_count": 1,
   "metadata": {},
   "outputs": [],
   "source": [
    "import importlib\n",
    "\n",
    "import mysklearn.myutils\n",
    "importlib.reload(mysklearn.myutils)\n",
    "import mysklearn.myutils as myutils\n",
    "\n",
    "\n",
    "import mysklearn.mypytable\n",
    "importlib.reload(mysklearn.mypytable)\n",
    "from mysklearn.mypytable import MyPyTable \n",
    "\n",
    "\n",
    "import mysklearn.myclassifiers\n",
    "importlib.reload(mysklearn.myclassifiers)\n",
    "from mysklearn.myclassifiers import MyKNeighborsClassifier, MyDummyClassifier, MyNaiveBayesClassifier, MyDecisionTreeClassifier, MyRandomForestClassifier\n",
    "\n",
    "import mysklearn.myevaluation\n",
    "importlib.reload(mysklearn.myevaluation)\n",
    "import mysklearn.myevaluation as myevaluation\n",
    "\n",
    "import copy\n",
    "import numpy as np"
   ]
  },
  {
   "cell_type": "code",
   "execution_count": 3,
   "metadata": {},
   "outputs": [],
   "source": [
    "df = MyPyTable()\n",
    "df.load_from_file(\"high_diamond_ranked_10min.csv\")\n",
    "y = df.get_column(\"blueWins\")\n",
    "\n",
    "X = copy.deepcopy(df.data)\n",
    "# randomizing indexes to sort out a stratified sample\n",
    "X_indexes = [ i for i in range(len(X))]\n",
    "myutils.randomize_in_place(X_indexes,y,0)\n",
    "grouped_X =[]\n",
    "grouped_y = []\n",
    "for i in range(len(X)):\n",
    "    if grouped_y.count(y[i]) >0:\n",
    "        grouped_X[grouped_y.index(y[i])].append(X_indexes[i])\n",
    "    else:\n",
    "        grouped_y.append(y[i])\n",
    "        grouped_X.append([X_indexes[i]])\n",
    "X_data = []\n",
    "y_data = []\n",
    "for i in range(1500):\n",
    "    for j in range(len(grouped_X)):\n",
    "        X_data.append(X[grouped_X[j][i]])\n",
    "        y_data.append(grouped_y[j])\n",
    "\n",
    "X = copy.deepcopy(X_data)\n",
    "\n",
    "y = copy.deepcopy(y_data)\n",
    "for entry in X:\n",
    "    del entry[0]\n",
    "    del entry[0]\n",
    "knn_clf = MyKNeighborsClassifier()\n",
    "nb_clf = MyNaiveBayesClassifier()\n",
    "dummy_clf = MyDummyClassifier()\n",
    "tree_clf = MyDecisionTreeClassifier()"
   ]
  },
  {
   "cell_type": "code",
   "execution_count": 3,
   "metadata": {},
   "outputs": [
    {
     "name": "stdout",
     "output_type": "stream",
     "text": [
      "\n",
      "Hold-Out Method\n",
      "kNN Classifier : accuracy =  0.6909090909090909  error =  0.3090909090909091\n",
      "binary precision:  0.6915322580645161\n",
      "binary recall:  0.6915322580645161\n",
      "f1 score:  0.6915322580645161\n",
      "Confusion Matrix\n",
      "[[341, 153], [153, 343]]\n",
      "\n",
      "Hold-Out Method\n",
      "Dummy Classifier : accuracy =  0.5  error =  0.5\n",
      "binary precision:  0.0\n",
      "binary recall:  0.0\n",
      "f1 score:  0\n",
      "Confusion Matrix\n",
      "[[495, 0], [495, 0]]\n"
     ]
    }
   ],
   "source": [
    "myutils.compute_clf_stats(knn_clf,X,y,\"kNN Classifier\")\n",
    "myutils.compute_clf_stats(dummy_clf,X,y,\"Dummy Classifier\")"
   ]
  },
  {
   "cell_type": "code",
   "execution_count": 4,
   "metadata": {},
   "outputs": [
    {
     "name": "stdout",
     "output_type": "stream",
     "text": [
      "['blueWardsPlaced', 'blueWardsDestroyed', 'blueFirstBlood', 'blueKills', 'blueDeaths', 'blueAssists', 'blueEliteMonsters', 'blueDragons', 'blueHeralds', 'blueTowersDestroyed', 'blueGoldDiff', 'blueExperienceDiff', 'redWardsPlaced', 'redWardsDestroyed', 'redFirstBlood', 'redKills', 'redDeaths', 'redAssists', 'redEliteMonsters', 'redDragons', 'redHeralds', 'redTowersDestroyed']\n"
     ]
    }
   ],
   "source": [
    "header = df.column_names.copy()\n",
    "del header[0:2]\n",
    "del header[-9:-1]\n",
    "del header[-1]\n",
    "del header[10:15]\n",
    "del header[12:14]\n",
    "print(header)"
   ]
  },
  {
   "cell_type": "code",
   "execution_count": 5,
   "metadata": {},
   "outputs": [
    {
     "name": "stdout",
     "output_type": "stream",
     "text": [
      "\n",
      "Hold-Out Method\n",
      "kNN Classifier : accuracy =  0.6525252525252525  error =  0.3474747474747475\n",
      "binary precision:  0.6583333333333333\n",
      "binary recall:  0.6370967741935484\n",
      "f1 score:  0.6475409836065574\n",
      "Confusion Matrix\n",
      "[[316, 180], [164, 330]]\n",
      "\n",
      "Hold-Out Method\n",
      "Dummy Classifier : accuracy =  0.5  error =  0.5\n",
      "binary precision:  0.0\n",
      "binary recall:  0.0\n",
      "f1 score:  0\n",
      "Confusion Matrix\n",
      "[[495, 0], [495, 0]]\n"
     ]
    }
   ],
   "source": [
    "X = copy.deepcopy(X_data)\n",
    "\n",
    "for entry in X:\n",
    "    del entry[0:2]\n",
    "    del entry[-9:-1]\n",
    "    del entry[-1]\n",
    "    del entry[10:15]\n",
    "    del entry[12:14]\n",
    "\n",
    "myutils.compute_clf_stats(knn_clf,X,y,\"kNN Classifier\")\n",
    "myutils.compute_clf_stats(dummy_clf,X,y,\"Dummy Classifier\")"
   ]
  },
  {
   "cell_type": "code",
   "execution_count": 4,
   "metadata": {},
   "outputs": [],
   "source": [
    "# equal width binning\n",
    "X = copy.deepcopy(X_data)\n",
    "y = [str(value) for value in y]\n",
    "for entry in X:\n",
    "    del entry[0:2]\n",
    "    del entry[-9:-1]\n",
    "    del entry[-1]\n",
    "    del entry[10:15]\n",
    "    del entry[12:14]\n",
    "for j in range(len(X[0])):\n",
    "    binned_col = myutils.binning([row[j] for row in X])\n",
    "    for i in range(len(X)):\n",
    "        X[i][j] = binned_col[i]"
   ]
  },
  {
   "cell_type": "code",
   "execution_count": 5,
   "metadata": {},
   "outputs": [
    {
     "name": "stdout",
     "output_type": "stream",
     "text": [
      "Hold-Out Method\n",
      "Random Forest : accuracy =  0.6575757575757576  error =  0.3424242424242424\n"
     ]
    }
   ],
   "source": [
    "X_train, X_test, y_train,y_test = myevaluation.train_test_split(X,y,random_state=0)\n",
    "\n",
    "forest_clf = MyRandomForestClassifier()\n",
    "forest_clf.fit(X_train,y_train,5,3,3)\n",
    "y_pred_clf = forest_clf.predict(X_test)\n",
    "\n",
    "accuracy = myevaluation.accuracy_score(y_test,y_pred_clf)\n",
    "print(\"Hold-Out Method\")\n",
    "print(\"Random Forest : accuracy = \", accuracy, \" error = \", 1 - accuracy)"
   ]
  },
  {
   "cell_type": "code",
   "execution_count": 6,
   "metadata": {},
   "outputs": [
    {
     "ename": "KeyboardInterrupt",
     "evalue": "",
     "output_type": "error",
     "traceback": [
      "\u001b[0;31m---------------------------------------------------------------------------\u001b[0m",
      "\u001b[0;31mKeyboardInterrupt\u001b[0m                         Traceback (most recent call last)",
      "\u001b[0;32m/tmp/ipykernel_12229/4263137455.py\u001b[0m in \u001b[0;36m<module>\u001b[0;34m\u001b[0m\n\u001b[1;32m      2\u001b[0m \u001b[0;34m\u001b[0m\u001b[0m\n\u001b[1;32m      3\u001b[0m \u001b[0mforest_clf\u001b[0m \u001b[0;34m=\u001b[0m \u001b[0mMyRandomForestClassifier\u001b[0m\u001b[0;34m(\u001b[0m\u001b[0;34m)\u001b[0m\u001b[0;34m\u001b[0m\u001b[0;34m\u001b[0m\u001b[0m\n\u001b[0;32m----> 4\u001b[0;31m \u001b[0mforest_clf\u001b[0m\u001b[0;34m.\u001b[0m\u001b[0mfit\u001b[0m\u001b[0;34m(\u001b[0m\u001b[0mX_train\u001b[0m\u001b[0;34m,\u001b[0m\u001b[0my_train\u001b[0m\u001b[0;34m,\u001b[0m\u001b[0;36m20\u001b[0m\u001b[0;34m,\u001b[0m\u001b[0;36m7\u001b[0m\u001b[0;34m,\u001b[0m\u001b[0;36m3\u001b[0m\u001b[0;34m)\u001b[0m\u001b[0;34m\u001b[0m\u001b[0;34m\u001b[0m\u001b[0m\n\u001b[0m\u001b[1;32m      5\u001b[0m \u001b[0my_pred_clf\u001b[0m \u001b[0;34m=\u001b[0m \u001b[0mforest_clf\u001b[0m\u001b[0;34m.\u001b[0m\u001b[0mpredict\u001b[0m\u001b[0;34m(\u001b[0m\u001b[0mX_test\u001b[0m\u001b[0;34m)\u001b[0m\u001b[0;34m\u001b[0m\u001b[0;34m\u001b[0m\u001b[0m\n\u001b[1;32m      6\u001b[0m \u001b[0;34m\u001b[0m\u001b[0m\n",
      "\u001b[0;32m/home/Project/League-Game-Prediction-Project-1/mysklearn/myclassifiers.py\u001b[0m in \u001b[0;36mfit\u001b[0;34m(self, X, y, M, N, F, random_state)\u001b[0m\n\u001b[1;32m    680\u001b[0m             \u001b[0mtree_clf\u001b[0m\u001b[0;34m.\u001b[0m\u001b[0mfit\u001b[0m\u001b[0;34m(\u001b[0m\u001b[0mX_train\u001b[0m\u001b[0;34m,\u001b[0m\u001b[0my_train\u001b[0m\u001b[0;34m,\u001b[0m\u001b[0mavailable_atts\u001b[0m\u001b[0;34m=\u001b[0m\u001b[0mselected_att\u001b[0m\u001b[0;34m)\u001b[0m\u001b[0;34m\u001b[0m\u001b[0;34m\u001b[0m\u001b[0m\n\u001b[1;32m    681\u001b[0m             \u001b[0mtemp_forest\u001b[0m\u001b[0;34m.\u001b[0m\u001b[0mappend\u001b[0m\u001b[0;34m(\u001b[0m\u001b[0mtree_clf\u001b[0m\u001b[0;34m)\u001b[0m\u001b[0;34m\u001b[0m\u001b[0;34m\u001b[0m\u001b[0m\n\u001b[0;32m--> 682\u001b[0;31m             \u001b[0my_pred\u001b[0m \u001b[0;34m=\u001b[0m \u001b[0mtree_clf\u001b[0m\u001b[0;34m.\u001b[0m\u001b[0mpredict\u001b[0m\u001b[0;34m(\u001b[0m\u001b[0mX_test\u001b[0m\u001b[0;34m)\u001b[0m\u001b[0;34m\u001b[0m\u001b[0;34m\u001b[0m\u001b[0m\n\u001b[0m\u001b[1;32m    683\u001b[0m             \u001b[0mtemp_accuracy\u001b[0m\u001b[0;34m.\u001b[0m\u001b[0mappend\u001b[0m\u001b[0;34m(\u001b[0m\u001b[0mmyevaluation\u001b[0m\u001b[0;34m.\u001b[0m\u001b[0maccuracy_score\u001b[0m\u001b[0;34m(\u001b[0m\u001b[0my_test\u001b[0m\u001b[0;34m,\u001b[0m\u001b[0my_pred\u001b[0m\u001b[0;34m)\u001b[0m\u001b[0;34m)\u001b[0m\u001b[0;34m\u001b[0m\u001b[0;34m\u001b[0m\u001b[0m\n\u001b[1;32m    684\u001b[0m         \u001b[0;32mfor\u001b[0m \u001b[0mi\u001b[0m \u001b[0;32min\u001b[0m \u001b[0mrange\u001b[0m\u001b[0;34m(\u001b[0m\u001b[0mM\u001b[0m\u001b[0;34m-\u001b[0m\u001b[0mN\u001b[0m\u001b[0;34m)\u001b[0m\u001b[0;34m:\u001b[0m\u001b[0;34m\u001b[0m\u001b[0;34m\u001b[0m\u001b[0m\n",
      "\u001b[0;32m/home/Project/League-Game-Prediction-Project-1/mysklearn/myclassifiers.py\u001b[0m in \u001b[0;36mpredict\u001b[0;34m(self, X_test)\u001b[0m\n\u001b[1;32m    485\u001b[0m                 \u001b[0matt_index\u001b[0m \u001b[0;34m=\u001b[0m \u001b[0mint\u001b[0m\u001b[0;34m(\u001b[0m\u001b[0mtree\u001b[0m\u001b[0;34m[\u001b[0m\u001b[0;36m1\u001b[0m\u001b[0;34m]\u001b[0m\u001b[0;34m[\u001b[0m\u001b[0;36m3\u001b[0m\u001b[0;34m:\u001b[0m\u001b[0;34m]\u001b[0m\u001b[0;34m)\u001b[0m\u001b[0;34m\u001b[0m\u001b[0;34m\u001b[0m\u001b[0m\n\u001b[1;32m    486\u001b[0m                 \u001b[0;32mfor\u001b[0m \u001b[0mi\u001b[0m \u001b[0;32min\u001b[0m \u001b[0mrange\u001b[0m\u001b[0;34m(\u001b[0m\u001b[0mlen\u001b[0m\u001b[0;34m(\u001b[0m\u001b[0mtree\u001b[0m\u001b[0;34m)\u001b[0m\u001b[0;34m-\u001b[0m\u001b[0;36m2\u001b[0m\u001b[0;34m)\u001b[0m\u001b[0;34m:\u001b[0m\u001b[0;34m\u001b[0m\u001b[0;34m\u001b[0m\u001b[0m\n\u001b[0;32m--> 487\u001b[0;31m                     \u001b[0;32mif\u001b[0m \u001b[0mentry\u001b[0m\u001b[0;34m[\u001b[0m\u001b[0matt_index\u001b[0m\u001b[0;34m]\u001b[0m \u001b[0;34m==\u001b[0m \u001b[0mtree\u001b[0m\u001b[0;34m[\u001b[0m\u001b[0mi\u001b[0m\u001b[0;34m+\u001b[0m\u001b[0;36m2\u001b[0m\u001b[0;34m]\u001b[0m\u001b[0;34m[\u001b[0m\u001b[0;36m1\u001b[0m\u001b[0;34m]\u001b[0m\u001b[0;34m:\u001b[0m\u001b[0;34m\u001b[0m\u001b[0;34m\u001b[0m\u001b[0m\n\u001b[0m\u001b[1;32m    488\u001b[0m                         \u001b[0mtree\u001b[0m \u001b[0;34m=\u001b[0m \u001b[0mtree\u001b[0m\u001b[0;34m[\u001b[0m\u001b[0mi\u001b[0m\u001b[0;34m+\u001b[0m\u001b[0;36m2\u001b[0m\u001b[0;34m]\u001b[0m\u001b[0;34m[\u001b[0m\u001b[0;36m2\u001b[0m\u001b[0;34m]\u001b[0m\u001b[0;34m\u001b[0m\u001b[0;34m\u001b[0m\u001b[0m\n\u001b[1;32m    489\u001b[0m                         \u001b[0;32mbreak\u001b[0m\u001b[0;34m\u001b[0m\u001b[0;34m\u001b[0m\u001b[0m\n",
      "\u001b[0;31mKeyboardInterrupt\u001b[0m: "
     ]
    }
   ],
   "source": [
    "X_train, X_test, y_train,y_test = myevaluation.train_test_split(X,y,random_state=0)\n",
    "\n",
    "forest_clf = MyRandomForestClassifier()\n",
    "forest_clf.fit(X_train,y_train,20,7,3)\n",
    "y_pred_clf = forest_clf.predict(X_test)\n",
    "\n",
    "accuracy = myevaluation.accuracy_score(y_test,y_pred_clf)\n",
    "print(\"Hold-Out Method\")\n",
    "print(\"Random Forest : accuracy = \", accuracy, \" error = \", 1 - accuracy)"
   ]
  },
  {
   "cell_type": "code",
   "execution_count": 5,
   "metadata": {},
   "outputs": [
    {
     "name": "stdout",
     "output_type": "stream",
     "text": [
      "predicting\n",
      "predicting\n",
      "predicting\n",
      "predicting\n",
      "predicting\n"
     ]
    },
    {
     "ename": "KeyboardInterrupt",
     "evalue": "",
     "output_type": "error",
     "traceback": [
      "\u001b[0;31m---------------------------------------------------------------------------\u001b[0m",
      "\u001b[0;31mKeyboardInterrupt\u001b[0m                         Traceback (most recent call last)",
      "\u001b[0;32m/tmp/ipykernel_14820/969835764.py\u001b[0m in \u001b[0;36m<module>\u001b[0;34m\u001b[0m\n\u001b[1;32m      3\u001b[0m \u001b[0mforest_clf\u001b[0m \u001b[0;34m=\u001b[0m \u001b[0mMyRandomForestClassifier\u001b[0m\u001b[0;34m(\u001b[0m\u001b[0;34m)\u001b[0m\u001b[0;34m\u001b[0m\u001b[0;34m\u001b[0m\u001b[0m\n\u001b[1;32m      4\u001b[0m \u001b[0mforest_clf\u001b[0m\u001b[0;34m.\u001b[0m\u001b[0mfit\u001b[0m\u001b[0;34m(\u001b[0m\u001b[0mX_train\u001b[0m\u001b[0;34m,\u001b[0m\u001b[0my_train\u001b[0m\u001b[0;34m,\u001b[0m\u001b[0;36m5\u001b[0m\u001b[0;34m,\u001b[0m\u001b[0;36m3\u001b[0m\u001b[0;34m,\u001b[0m\u001b[0;36m4\u001b[0m\u001b[0;34m)\u001b[0m\u001b[0;34m\u001b[0m\u001b[0;34m\u001b[0m\u001b[0m\n\u001b[0;32m----> 5\u001b[0;31m \u001b[0my_pred_clf\u001b[0m \u001b[0;34m=\u001b[0m \u001b[0mforest_clf\u001b[0m\u001b[0;34m.\u001b[0m\u001b[0mpredict\u001b[0m\u001b[0;34m(\u001b[0m\u001b[0mX_test\u001b[0m\u001b[0;34m)\u001b[0m\u001b[0;34m\u001b[0m\u001b[0;34m\u001b[0m\u001b[0m\n\u001b[0m\u001b[1;32m      6\u001b[0m \u001b[0;34m\u001b[0m\u001b[0m\n\u001b[1;32m      7\u001b[0m \u001b[0maccuracy\u001b[0m \u001b[0;34m=\u001b[0m \u001b[0mmyevaluation\u001b[0m\u001b[0;34m.\u001b[0m\u001b[0maccuracy_score\u001b[0m\u001b[0;34m(\u001b[0m\u001b[0my_test\u001b[0m\u001b[0;34m,\u001b[0m\u001b[0my_pred_clf\u001b[0m\u001b[0;34m)\u001b[0m\u001b[0;34m\u001b[0m\u001b[0;34m\u001b[0m\u001b[0m\n",
      "\u001b[0;32m/home/Project/League-Game-Prediction-Project-1/mysklearn/myclassifiers.py\u001b[0m in \u001b[0;36mpredict\u001b[0;34m(self, X_test)\u001b[0m\n\u001b[1;32m    694\u001b[0m         \u001b[0mvotes\u001b[0m \u001b[0;34m=\u001b[0m \u001b[0;34m[\u001b[0m\u001b[0;34m]\u001b[0m\u001b[0;34m\u001b[0m\u001b[0;34m\u001b[0m\u001b[0m\n\u001b[1;32m    695\u001b[0m         \u001b[0;32mfor\u001b[0m \u001b[0mi\u001b[0m \u001b[0;32min\u001b[0m \u001b[0mrange\u001b[0m\u001b[0;34m(\u001b[0m\u001b[0mlen\u001b[0m\u001b[0;34m(\u001b[0m\u001b[0mself\u001b[0m\u001b[0;34m.\u001b[0m\u001b[0mforest\u001b[0m\u001b[0;34m)\u001b[0m\u001b[0;34m)\u001b[0m\u001b[0;34m:\u001b[0m\u001b[0;34m\u001b[0m\u001b[0;34m\u001b[0m\u001b[0m\n\u001b[0;32m--> 696\u001b[0;31m             \u001b[0mvotes\u001b[0m\u001b[0;34m.\u001b[0m\u001b[0mappend\u001b[0m\u001b[0;34m(\u001b[0m\u001b[0mself\u001b[0m\u001b[0;34m.\u001b[0m\u001b[0mforest\u001b[0m\u001b[0;34m[\u001b[0m\u001b[0mi\u001b[0m\u001b[0;34m]\u001b[0m\u001b[0;34m.\u001b[0m\u001b[0mpredict\u001b[0m\u001b[0;34m(\u001b[0m\u001b[0mX_test\u001b[0m\u001b[0;34m)\u001b[0m\u001b[0;34m)\u001b[0m\u001b[0;34m\u001b[0m\u001b[0;34m\u001b[0m\u001b[0m\n\u001b[0m\u001b[1;32m    697\u001b[0m         \u001b[0;32mfor\u001b[0m \u001b[0mi\u001b[0m \u001b[0;32min\u001b[0m \u001b[0mrange\u001b[0m\u001b[0;34m(\u001b[0m\u001b[0mlen\u001b[0m\u001b[0;34m(\u001b[0m\u001b[0mX_test\u001b[0m\u001b[0;34m)\u001b[0m\u001b[0;34m)\u001b[0m\u001b[0;34m:\u001b[0m\u001b[0;34m\u001b[0m\u001b[0;34m\u001b[0m\u001b[0m\n\u001b[1;32m    698\u001b[0m             \u001b[0mprint\u001b[0m\u001b[0;34m(\u001b[0m\u001b[0mi\u001b[0m\u001b[0;34m)\u001b[0m\u001b[0;34m\u001b[0m\u001b[0;34m\u001b[0m\u001b[0m\n",
      "\u001b[0;32m/home/Project/League-Game-Prediction-Project-1/mysklearn/myclassifiers.py\u001b[0m in \u001b[0;36mpredict\u001b[0;34m(self, X_test)\u001b[0m\n\u001b[1;32m    485\u001b[0m                 \u001b[0matt_index\u001b[0m \u001b[0;34m=\u001b[0m \u001b[0mint\u001b[0m\u001b[0;34m(\u001b[0m\u001b[0mtree\u001b[0m\u001b[0;34m[\u001b[0m\u001b[0;36m1\u001b[0m\u001b[0;34m]\u001b[0m\u001b[0;34m[\u001b[0m\u001b[0;36m3\u001b[0m\u001b[0;34m:\u001b[0m\u001b[0;34m]\u001b[0m\u001b[0;34m)\u001b[0m\u001b[0;34m\u001b[0m\u001b[0;34m\u001b[0m\u001b[0m\n\u001b[1;32m    486\u001b[0m                 \u001b[0;32mfor\u001b[0m \u001b[0mi\u001b[0m \u001b[0;32min\u001b[0m \u001b[0mrange\u001b[0m\u001b[0;34m(\u001b[0m\u001b[0mlen\u001b[0m\u001b[0;34m(\u001b[0m\u001b[0mtree\u001b[0m\u001b[0;34m)\u001b[0m\u001b[0;34m-\u001b[0m\u001b[0;36m2\u001b[0m\u001b[0;34m)\u001b[0m\u001b[0;34m:\u001b[0m\u001b[0;34m\u001b[0m\u001b[0;34m\u001b[0m\u001b[0m\n\u001b[0;32m--> 487\u001b[0;31m                     \u001b[0;32mif\u001b[0m \u001b[0mentry\u001b[0m\u001b[0;34m[\u001b[0m\u001b[0matt_index\u001b[0m\u001b[0;34m]\u001b[0m \u001b[0;34m==\u001b[0m \u001b[0mtree\u001b[0m\u001b[0;34m[\u001b[0m\u001b[0mi\u001b[0m\u001b[0;34m+\u001b[0m\u001b[0;36m2\u001b[0m\u001b[0;34m]\u001b[0m\u001b[0;34m[\u001b[0m\u001b[0;36m1\u001b[0m\u001b[0;34m]\u001b[0m\u001b[0;34m:\u001b[0m\u001b[0;34m\u001b[0m\u001b[0;34m\u001b[0m\u001b[0m\n\u001b[0m\u001b[1;32m    488\u001b[0m                         \u001b[0mtree\u001b[0m \u001b[0;34m=\u001b[0m \u001b[0mtree\u001b[0m\u001b[0;34m[\u001b[0m\u001b[0mi\u001b[0m\u001b[0;34m+\u001b[0m\u001b[0;36m2\u001b[0m\u001b[0;34m]\u001b[0m\u001b[0;34m[\u001b[0m\u001b[0;36m2\u001b[0m\u001b[0;34m]\u001b[0m\u001b[0;34m\u001b[0m\u001b[0;34m\u001b[0m\u001b[0m\n\u001b[1;32m    489\u001b[0m                         \u001b[0;32mbreak\u001b[0m\u001b[0;34m\u001b[0m\u001b[0;34m\u001b[0m\u001b[0m\n",
      "\u001b[0;31mKeyboardInterrupt\u001b[0m: "
     ]
    }
   ],
   "source": [
    "X_train, X_test, y_train,y_test = myevaluation.train_test_split(X,y,random_state=0)\n",
    "\n",
    "forest_clf = MyRandomForestClassifier()\n",
    "forest_clf.fit(X_train,y_train,5,3,4)\n",
    "y_pred_clf = forest_clf.predict(X_test)\n",
    "\n",
    "accuracy = myevaluation.accuracy_score(y_test,y_pred_clf)\n",
    "print(\"Hold-Out Method\")\n",
    "print(\"Random Forest : accuracy = \", accuracy, \" error = \", 1 - accuracy)"
   ]
  },
  {
   "cell_type": "markdown",
   "metadata": {},
   "source": [
    "## EDA\n",
    "\n",
    "The following are some graphs that help us identify some interesting relationships. Starting with sorting the table into TWO tables with all the data of blue wins and all the data with red wins."
   ]
  },
  {
   "cell_type": "code",
   "execution_count": null,
   "metadata": {},
   "outputs": [],
   "source": [
    "data = MyPyTable()\n",
    "data.load_from_file('high_diamond_ranked_10min.csv')\n",
    "blue_wins_table = []\n",
    "blue_loses_table = []\n",
    "\n",
    "for row in data.data:\n",
    "    if row[1] == 1: # blue wins\n",
    "        blue_wins_table.append(row)\n",
    "    elif row[1] == 0: # red wins\n",
    "        blue_loses_table.append(row)\n",
    "\n",
    "print(data.column_names)\n",
    "blue_wins_df = MyPyTable(column_names=data.column_names, data=blue_wins_table)\n",
    "blue_loses_df = MyPyTable(column_names=data.column_names, data=blue_loses_table)\n",
    "print(blue_wins_df.column_names)"
   ]
  },
  {
   "cell_type": "markdown",
   "metadata": {},
   "source": [
    "## Graphing Blue Stats VS Red Stats when Blue WINS"
   ]
  },
  {
   "cell_type": "code",
   "execution_count": null,
   "metadata": {},
   "outputs": [],
   "source": [
    "import matplotlib.pyplot as plt"
   ]
  },
  {
   "cell_type": "code",
   "execution_count": null,
   "metadata": {},
   "outputs": [],
   "source": [
    "blue_avg_level = blue_wins_df.get_column('blueAvgLevel')\n",
    "red_avg_level = blue_wins_df.get_column('redAvgLevel')\n",
    "\n",
    "plt.plot(blue_avg_level, red_avg_level, \"b.\")\n",
    "plt.title('Avg Blue Lv. VS Avg. Red Level (When Blue WINS)')\n",
    "plt.xlabel('Avg. Blue Lvl')\n",
    "plt.ylabel('Av.g Red Lvl')\n",
    "plt.show()"
   ]
  },
  {
   "cell_type": "code",
   "execution_count": null,
   "metadata": {},
   "outputs": [],
   "source": [
    "blue_exp = blue_wins_df.get_column('blueTotalExperience')\n",
    "red_exp = blue_wins_df.get_column('redTotalExperience')\n",
    "\n",
    "plt.plot(blue_exp, red_exp, \"b.\")\n",
    "plt.title('Blue Experience VS Red Experience (When Blue WINS)')\n",
    "plt.xlabel('Blue Experience')\n",
    "plt.ylabel('Red Experience')\n",
    "plt.show()"
   ]
  },
  {
   "cell_type": "code",
   "execution_count": null,
   "metadata": {},
   "outputs": [],
   "source": [
    "blue_gold = blue_wins_df.get_column('blueTotalGold')\n",
    "red_gold = blue_wins_df.get_column('redTotalGold')\n",
    "\n",
    "plt.plot(blue_gold, red_gold, \"b.\")\n",
    "plt.title('Blue Gold VS Avg. Red Gold (When Blue WINS)')\n",
    "plt.xlabel('Blue Gold')\n",
    "plt.ylabel('Red Gold')\n",
    "plt.show()"
   ]
  },
  {
   "cell_type": "markdown",
   "metadata": {},
   "source": [
    "## Does Getting the First Kill Matter?"
   ]
  },
  {
   "cell_type": "code",
   "execution_count": null,
   "metadata": {},
   "outputs": [],
   "source": [
    "x = [1,2]\n",
    "counts = [0,0]\n",
    "for row in blue_wins_df.data:\n",
    "    if row[4] == 1:\n",
    "        counts[0] += 1\n",
    "    elif row[4] == 0:\n",
    "        counts[1] += 1\n",
    "\n",
    "plt.bar(np.arange(len(x)), counts)\n",
    "plt.xticks(np.arange(len(x)), ['Got First Kill', 'Did NOT Get First Kill'])\n",
    "plt.ylabel('Counts')\n",
    "plt.title('Whether Blue Got the First Kill When Blue WINS')\n",
    "plt.show()"
   ]
  },
  {
   "cell_type": "code",
   "execution_count": null,
   "metadata": {},
   "outputs": [],
   "source": [
    "x = [1,2]\n",
    "counts = [0,0]\n",
    "for row in blue_loses_df.data:\n",
    "    if row[23] == 1:\n",
    "        counts[0] += 1\n",
    "    elif row[23] == 0:\n",
    "        counts[1] += 1\n",
    "\n",
    "plt.bar(np.arange(len(x)), counts)\n",
    "plt.xticks(np.arange(len(x)), ['Got First Kill', 'Did NOT Get First Kill'])\n",
    "plt.ylabel('Counts')\n",
    "plt.title('Whether Red Got the First Kill When RED WINS')\n",
    "plt.show()"
   ]
  },
  {
   "cell_type": "markdown",
   "metadata": {},
   "source": [
    "## Calculating and Plotting Kill/Death Ratio"
   ]
  },
  {
   "cell_type": "code",
   "execution_count": null,
   "metadata": {},
   "outputs": [],
   "source": [
    "print(blue_wins_df.column_names)"
   ]
  },
  {
   "cell_type": "code",
   "execution_count": null,
   "metadata": {},
   "outputs": [],
   "source": [
    "header = blue_wins_df.column_names\n",
    "header.append(['BlueKillDeathRatio', 'RedKillDeathRatio'])\n",
    "\n",
    "blue_wins_df.column_names = header\n",
    "blue_loses_df.column_names = header\n",
    "\n",
    "for row in blue_wins_df.data:\n",
    "    if row[6] == 0:\n",
    "        if row[25] == 0:\n",
    "            row.append([0,0])\n",
    "        else:\n",
    "            row.append([0, row[24]/row[25]])\n",
    "\n",
    "    if row[25] == 0:\n",
    "        row.append([row[5]/row[6],0])\n",
    "\n",
    "for row in blue_loses_df.data:\n",
    "    if row[6] == 0:\n",
    "        if row[25] == 0:\n",
    "            row.append([0,0])\n",
    "        else:\n",
    "            row.append([0, row[24]/row[25]])\n",
    "\n",
    "    if row[25] == 0:\n",
    "        row.append([row[5]/row[6],0])"
   ]
  }
 ],
 "metadata": {
  "interpreter": {
   "hash": "d4d1e4263499bec80672ea0156c357c1ee493ec2b1c70f0acce89fc37c4a6abe"
  },
  "kernelspec": {
   "display_name": "Python 3.9.7 ('base')",
   "language": "python",
   "name": "python3"
  },
  "language_info": {
   "codemirror_mode": {
    "name": "ipython",
    "version": 3
   },
   "file_extension": ".py",
   "mimetype": "text/x-python",
   "name": "python",
   "nbconvert_exporter": "python",
   "pygments_lexer": "ipython3",
   "version": "3.9.7"
  },
  "orig_nbformat": 4
 },
 "nbformat": 4,
 "nbformat_minor": 2
}
