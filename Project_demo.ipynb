{
 "cells": [
  {
   "cell_type": "code",
   "execution_count": 1,
   "metadata": {},
   "outputs": [],
   "source": [
    "import importlib\n",
    "\n",
    "import mysklearn.myutils\n",
    "importlib.reload(mysklearn.myutils)\n",
    "import mysklearn.myutils as myutils\n",
    "\n",
    "\n",
    "import mysklearn.mypytable\n",
    "importlib.reload(mysklearn.mypytable)\n",
    "from mysklearn.mypytable import MyPyTable \n",
    "\n",
    "\n",
    "import mysklearn.myclassifiers\n",
    "importlib.reload(mysklearn.myclassifiers)\n",
    "from mysklearn.myclassifiers import MyKNeighborsClassifier, MyDummyClassifier, MyNaiveBayesClassifier, MyDecisionTreeClassifier\n",
    "\n",
    "import mysklearn.myevaluation\n",
    "importlib.reload(mysklearn.myevaluation)\n",
    "import mysklearn.myevaluation as myevaluation\n",
    "\n",
    "import copy"
   ]
  },
  {
   "cell_type": "code",
   "execution_count": 2,
   "metadata": {},
   "outputs": [
    {
     "name": "stdout",
     "output_type": "stream",
     "text": [
      "\n",
      "Stratified 10-Fold Cross Validation\n",
      "kNN Classifier : accuracy =  0.6743597530114384  error =  0.32564024698856164\n",
      "binary precision:  0.6755168220510742\n",
      "binary recall:  0.673469387755102\n",
      "f1 score:  0.6744915511484367\n",
      "Confusion Matrix\n",
      "[[3333, 1616], [1601, 3329]]\n",
      "\n",
      "Stratified 10-Fold Cross Validation\n",
      "Dummy Classifier : accuracy =  0.5009616357930965  error =  0.4990383642069035\n",
      "binary precision:  0.5009616357930965\n",
      "binary recall:  1.0\n",
      "f1 score:  0.66752090639331\n",
      "Confusion Matrix\n",
      "[[4949, 0], [4930, 0]]\n"
     ]
    }
   ],
   "source": [
    "df = MyPyTable()\n",
    "df.load_from_file(\"high_diamond_ranked_10min.csv\")\n",
    "y = df.get_column(\"blueWins\")\n",
    "X = copy.deepcopy(df.data)\n",
    "for entry in X:\n",
    "    del entry[0]\n",
    "    del entry[0]\n",
    "knn_clf = MyKNeighborsClassifier()\n",
    "nb_clf = MyNaiveBayesClassifier()\n",
    "dummy_clf = MyDummyClassifier()\n",
    "tree_clf = MyDecisionTreeClassifier()\n",
    "\n",
    "myutils.compute_clf_stats(knn_clf,X,y,\"kNN Classifier\")\n",
    "myutils.compute_clf_stats(dummy_clf,X,y,\"Dummy Classifier\")"
   ]
  },
  {
   "cell_type": "code",
   "execution_count": 3,
   "metadata": {},
   "outputs": [
    {
     "name": "stdout",
     "output_type": "stream",
     "text": [
      "Distribution of blueWins in the dataset:\n",
      "Blue team wins:  4930\n",
      "Blue team loses:  4949\n"
     ]
    }
   ],
   "source": [
    "\n",
    "print(\"Distribution of blueWins in the dataset:\")\n",
    "print(\"Blue team wins: \",y.count(1))\n",
    "print(\"Blue team loses: \",y.count(0))"
   ]
  },
  {
   "cell_type": "code",
   "execution_count": 4,
   "metadata": {},
   "outputs": [
    {
     "name": "stdout",
     "output_type": "stream",
     "text": [
      "['blueWardsPlaced', 'blueWardsDestroyed', 'blueFirstBlood', 'blueKills', 'blueDeaths', 'blueAssists', 'blueEliteMonsters', 'blueDragons', 'blueHeralds', 'blueTowersDestroyed', 'blueGoldDiff', 'blueExperienceDiff', 'redWardsPlaced', 'redWardsDestroyed', 'redFirstBlood', 'redKills', 'redDeaths', 'redAssists', 'redEliteMonsters', 'redDragons', 'redHeralds', 'redTowersDestroyed']\n"
     ]
    }
   ],
   "source": [
    "header = df.column_names.copy()\n",
    "del header[0:2]\n",
    "del header[-9:-1]\n",
    "del header[-1]\n",
    "del header[10:15]\n",
    "del header[12:14]\n",
    "print(header)"
   ]
  },
  {
   "cell_type": "code",
   "execution_count": 5,
   "metadata": {},
   "outputs": [
    {
     "name": "stdout",
     "output_type": "stream",
     "text": [
      "\n",
      "Stratified 10-Fold Cross Validation\n",
      "kNN Classifier : accuracy =  0.6648446199007997  error =  0.3351553800992003\n",
      "binary precision:  0.6667345276872965\n",
      "binary recall:  0.6617498484542331\n",
      "f1 score:  0.664232836426326\n",
      "Confusion Matrix\n",
      "[[3275, 1674], [1637, 3293]]\n",
      "\n",
      "Stratified 10-Fold Cross Validation\n",
      "Dummy Classifier : accuracy =  0.5009616357930965  error =  0.4990383642069035\n",
      "binary precision:  0.5009616357930965\n",
      "binary recall:  1.0\n",
      "f1 score:  0.66752090639331\n",
      "Confusion Matrix\n",
      "[[4949, 0], [4930, 0]]\n"
     ]
    }
   ],
   "source": [
    "X = copy.deepcopy(df.data)\n",
    "for entry in X:\n",
    "    del entry[0:2]\n",
    "    del entry[-9:-1]\n",
    "    del entry[-1]\n",
    "    del entry[10:15]\n",
    "    del entry[12:14]\n",
    "\n",
    "myutils.compute_clf_stats(knn_clf,X,y,\"kNN Classifier\")\n",
    "myutils.compute_clf_stats(dummy_clf,X,y,\"Dummy Classifier\")"
   ]
  },
  {
   "cell_type": "code",
   "execution_count": null,
   "metadata": {},
   "outputs": [],
   "source": []
  }
 ],
 "metadata": {
  "interpreter": {
   "hash": "d4d1e4263499bec80672ea0156c357c1ee493ec2b1c70f0acce89fc37c4a6abe"
  },
  "kernelspec": {
   "display_name": "Python 3.9.7 ('base')",
   "language": "python",
   "name": "python3"
  },
  "language_info": {
   "codemirror_mode": {
    "name": "ipython",
    "version": 3
   },
   "file_extension": ".py",
   "mimetype": "text/x-python",
   "name": "python",
   "nbconvert_exporter": "python",
   "pygments_lexer": "ipython3",
   "version": "3.9.7"
  },
  "orig_nbformat": 4
 },
 "nbformat": 4,
 "nbformat_minor": 2
}
